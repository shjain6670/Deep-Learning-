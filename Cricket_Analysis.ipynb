{
  "nbformat": 4,
  "nbformat_minor": 0,
  "metadata": {
    "colab": {
      "name": "Cricket Analysis.ipynb",
      "provenance": [],
      "authorship_tag": "ABX9TyPy6/hcZjaMt93y0C+xMoUR",
      "include_colab_link": true
    },
    "kernelspec": {
      "name": "python3",
      "display_name": "Python 3"
    },
    "accelerator": "TPU"
  },
  "cells": [
    {
      "cell_type": "markdown",
      "metadata": {
        "id": "view-in-github",
        "colab_type": "text"
      },
      "source": [
        "<a href=\"https://colab.research.google.com/github/shjain6670/Deep-Learning-/blob/master/Cricket_Analysis.ipynb\" target=\"_parent\"><img src=\"https://colab.research.google.com/assets/colab-badge.svg\" alt=\"Open In Colab\"/></a>"
      ]
    },
    {
      "cell_type": "code",
      "metadata": {
        "id": "7qt3wP0bt2A_",
        "colab_type": "code",
        "outputId": "c58b5e7a-86d8-4255-c56c-142ce9925519",
        "colab": {
          "base_uri": "https://localhost:8080/",
          "height": 196
        }
      },
      "source": [
        "import pandas as pd\n",
        "import numpy as np\n",
        "import matplotlib.pyplot as plt\n",
        "import seaborn as sns\n",
        "\n",
        "cric_df = pd.read_excel('Merged Dataset-Cricket.xlsx')\n",
        "cric_df.head()"
      ],
      "execution_count": 1,
      "outputs": [
        {
          "output_type": "execute_result",
          "data": {
            "text/html": [
              "<div>\n",
              "<style scoped>\n",
              "    .dataframe tbody tr th:only-of-type {\n",
              "        vertical-align: middle;\n",
              "    }\n",
              "\n",
              "    .dataframe tbody tr th {\n",
              "        vertical-align: top;\n",
              "    }\n",
              "\n",
              "    .dataframe thead th {\n",
              "        text-align: right;\n",
              "    }\n",
              "</style>\n",
              "<table border=\"1\" class=\"dataframe\">\n",
              "  <thead>\n",
              "    <tr style=\"text-align: right;\">\n",
              "      <th></th>\n",
              "      <th>Team</th>\n",
              "      <th>Match Score</th>\n",
              "      <th>Wickets</th>\n",
              "      <th>Overs</th>\n",
              "      <th>RPO</th>\n",
              "      <th>Inns</th>\n",
              "      <th>Result</th>\n",
              "      <th>Opposition</th>\n",
              "      <th>Ground</th>\n",
              "      <th>Start Date</th>\n",
              "      <th>Margin</th>\n",
              "      <th>BR</th>\n",
              "      <th>Toss</th>\n",
              "      <th>Bat</th>\n",
              "      <th>Rank</th>\n",
              "    </tr>\n",
              "  </thead>\n",
              "  <tbody>\n",
              "    <tr>\n",
              "      <th>0</th>\n",
              "      <td>India</td>\n",
              "      <td>289</td>\n",
              "      <td>3.0</td>\n",
              "      <td>47.3</td>\n",
              "      <td>6.08</td>\n",
              "      <td>2</td>\n",
              "      <td>won</td>\n",
              "      <td>v Australia</td>\n",
              "      <td>Bengaluru</td>\n",
              "      <td>2020-01-19</td>\n",
              "      <td>7 wickets</td>\n",
              "      <td>15.0</td>\n",
              "      <td>lost</td>\n",
              "      <td>2nd</td>\n",
              "      <td>2</td>\n",
              "    </tr>\n",
              "    <tr>\n",
              "      <th>1</th>\n",
              "      <td>India</td>\n",
              "      <td>340</td>\n",
              "      <td>6.0</td>\n",
              "      <td>50.0</td>\n",
              "      <td>6.80</td>\n",
              "      <td>1</td>\n",
              "      <td>won</td>\n",
              "      <td>v Australia</td>\n",
              "      <td>Rajkot</td>\n",
              "      <td>2020-01-17</td>\n",
              "      <td>36 runs</td>\n",
              "      <td>NaN</td>\n",
              "      <td>lost</td>\n",
              "      <td>1st</td>\n",
              "      <td>2</td>\n",
              "    </tr>\n",
              "    <tr>\n",
              "      <th>2</th>\n",
              "      <td>India</td>\n",
              "      <td>255</td>\n",
              "      <td>NaN</td>\n",
              "      <td>49.1</td>\n",
              "      <td>5.18</td>\n",
              "      <td>1</td>\n",
              "      <td>lost</td>\n",
              "      <td>v Australia</td>\n",
              "      <td>Mumbai</td>\n",
              "      <td>2020-01-14</td>\n",
              "      <td>10 wickets</td>\n",
              "      <td>74.0</td>\n",
              "      <td>lost</td>\n",
              "      <td>1st</td>\n",
              "      <td>2</td>\n",
              "    </tr>\n",
              "    <tr>\n",
              "      <th>3</th>\n",
              "      <td>India</td>\n",
              "      <td>352</td>\n",
              "      <td>5.0</td>\n",
              "      <td>50.0</td>\n",
              "      <td>7.04</td>\n",
              "      <td>1</td>\n",
              "      <td>won</td>\n",
              "      <td>v Australia</td>\n",
              "      <td>The Oval</td>\n",
              "      <td>2019-06-09</td>\n",
              "      <td>36 runs</td>\n",
              "      <td>NaN</td>\n",
              "      <td>won</td>\n",
              "      <td>1st</td>\n",
              "      <td>2</td>\n",
              "    </tr>\n",
              "    <tr>\n",
              "      <th>4</th>\n",
              "      <td>India</td>\n",
              "      <td>237</td>\n",
              "      <td>NaN</td>\n",
              "      <td>50.0</td>\n",
              "      <td>4.74</td>\n",
              "      <td>2</td>\n",
              "      <td>lost</td>\n",
              "      <td>v Australia</td>\n",
              "      <td>Delhi</td>\n",
              "      <td>2019-03-13</td>\n",
              "      <td>35 runs</td>\n",
              "      <td>NaN</td>\n",
              "      <td>lost</td>\n",
              "      <td>2nd</td>\n",
              "      <td>2</td>\n",
              "    </tr>\n",
              "  </tbody>\n",
              "</table>\n",
              "</div>"
            ],
            "text/plain": [
              "    Team  Match Score  Wickets  Overs   RPO  ...      Margin    BR  Toss  Bat Rank\n",
              "0  India          289      3.0   47.3  6.08  ...   7 wickets  15.0  lost  2nd    2\n",
              "1  India          340      6.0   50.0  6.80  ...     36 runs   NaN  lost  1st    2\n",
              "2  India          255      NaN   49.1  5.18  ...  10 wickets  74.0  lost  1st    2\n",
              "3  India          352      5.0   50.0  7.04  ...     36 runs   NaN   won  1st    2\n",
              "4  India          237      NaN   50.0  4.74  ...     35 runs   NaN  lost  2nd    2\n",
              "\n",
              "[5 rows x 15 columns]"
            ]
          },
          "metadata": {
            "tags": []
          },
          "execution_count": 1
        }
      ]
    },
    {
      "cell_type": "code",
      "metadata": {
        "id": "fXYoRNPZVdPO",
        "colab_type": "code",
        "outputId": "31ce9780-4ecf-4ff9-f740-caa5285665d2",
        "colab": {
          "base_uri": "https://localhost:8080/",
          "height": 353
        }
      },
      "source": [
        "cric_df.info()"
      ],
      "execution_count": 2,
      "outputs": [
        {
          "output_type": "stream",
          "text": [
            "<class 'pandas.core.frame.DataFrame'>\n",
            "RangeIndex: 770 entries, 0 to 769\n",
            "Data columns (total 15 columns):\n",
            "Team           770 non-null object\n",
            "Match Score    770 non-null int64\n",
            "Wickets        518 non-null float64\n",
            "Overs          770 non-null float64\n",
            "RPO            770 non-null float64\n",
            "Inns           770 non-null int64\n",
            "Result         770 non-null object\n",
            "Opposition     770 non-null object\n",
            "Ground         770 non-null object\n",
            "Start Date     770 non-null datetime64[ns]\n",
            "Margin         770 non-null object\n",
            "BR             380 non-null float64\n",
            "Toss           770 non-null object\n",
            "Bat            770 non-null object\n",
            "Rank           770 non-null int64\n",
            "dtypes: datetime64[ns](1), float64(4), int64(3), object(7)\n",
            "memory usage: 90.4+ KB\n"
          ],
          "name": "stdout"
        }
      ]
    },
    {
      "cell_type": "code",
      "metadata": {
        "id": "XTwiHlXv7JfH",
        "colab_type": "code",
        "outputId": "1c2b8d25-3dad-429b-9fab-d00fc99bf6d4",
        "colab": {
          "base_uri": "https://localhost:8080/",
          "height": 33
        }
      },
      "source": [
        "pd.unique(cric_df['Result'])"
      ],
      "execution_count": 3,
      "outputs": [
        {
          "output_type": "execute_result",
          "data": {
            "text/plain": [
              "array(['won', 'lost'], dtype=object)"
            ]
          },
          "metadata": {
            "tags": []
          },
          "execution_count": 3
        }
      ]
    },
    {
      "cell_type": "code",
      "metadata": {
        "id": "hh0z7AMRAsjE",
        "colab_type": "code",
        "outputId": "e3f87fea-3d64-4969-afe2-ca10c3f3b8cb",
        "colab": {
          "base_uri": "https://localhost:8080/",
          "height": 136
        }
      },
      "source": [
        "cric_df.groupby('Result').count()"
      ],
      "execution_count": 4,
      "outputs": [
        {
          "output_type": "execute_result",
          "data": {
            "text/html": [
              "<div>\n",
              "<style scoped>\n",
              "    .dataframe tbody tr th:only-of-type {\n",
              "        vertical-align: middle;\n",
              "    }\n",
              "\n",
              "    .dataframe tbody tr th {\n",
              "        vertical-align: top;\n",
              "    }\n",
              "\n",
              "    .dataframe thead th {\n",
              "        text-align: right;\n",
              "    }\n",
              "</style>\n",
              "<table border=\"1\" class=\"dataframe\">\n",
              "  <thead>\n",
              "    <tr style=\"text-align: right;\">\n",
              "      <th></th>\n",
              "      <th>Team</th>\n",
              "      <th>Match Score</th>\n",
              "      <th>Wickets</th>\n",
              "      <th>Overs</th>\n",
              "      <th>RPO</th>\n",
              "      <th>Inns</th>\n",
              "      <th>Opposition</th>\n",
              "      <th>Ground</th>\n",
              "      <th>Start Date</th>\n",
              "      <th>Margin</th>\n",
              "      <th>BR</th>\n",
              "      <th>Toss</th>\n",
              "      <th>Bat</th>\n",
              "      <th>Rank</th>\n",
              "    </tr>\n",
              "    <tr>\n",
              "      <th>Result</th>\n",
              "      <th></th>\n",
              "      <th></th>\n",
              "      <th></th>\n",
              "      <th></th>\n",
              "      <th></th>\n",
              "      <th></th>\n",
              "      <th></th>\n",
              "      <th></th>\n",
              "      <th></th>\n",
              "      <th></th>\n",
              "      <th></th>\n",
              "      <th></th>\n",
              "      <th></th>\n",
              "      <th></th>\n",
              "    </tr>\n",
              "  </thead>\n",
              "  <tbody>\n",
              "    <tr>\n",
              "      <th>lost</th>\n",
              "      <td>385</td>\n",
              "      <td>385</td>\n",
              "      <td>156</td>\n",
              "      <td>385</td>\n",
              "      <td>385</td>\n",
              "      <td>385</td>\n",
              "      <td>385</td>\n",
              "      <td>385</td>\n",
              "      <td>385</td>\n",
              "      <td>385</td>\n",
              "      <td>190</td>\n",
              "      <td>385</td>\n",
              "      <td>385</td>\n",
              "      <td>385</td>\n",
              "    </tr>\n",
              "    <tr>\n",
              "      <th>won</th>\n",
              "      <td>385</td>\n",
              "      <td>385</td>\n",
              "      <td>362</td>\n",
              "      <td>385</td>\n",
              "      <td>385</td>\n",
              "      <td>385</td>\n",
              "      <td>385</td>\n",
              "      <td>385</td>\n",
              "      <td>385</td>\n",
              "      <td>385</td>\n",
              "      <td>190</td>\n",
              "      <td>385</td>\n",
              "      <td>385</td>\n",
              "      <td>385</td>\n",
              "    </tr>\n",
              "  </tbody>\n",
              "</table>\n",
              "</div>"
            ],
            "text/plain": [
              "        Team  Match Score  Wickets  Overs  RPO  ...  Margin   BR  Toss  Bat  Rank\n",
              "Result                                          ...                              \n",
              "lost     385          385      156    385  385  ...     385  190   385  385   385\n",
              "won      385          385      362    385  385  ...     385  190   385  385   385\n",
              "\n",
              "[2 rows x 14 columns]"
            ]
          },
          "metadata": {
            "tags": []
          },
          "execution_count": 4
        }
      ]
    },
    {
      "cell_type": "code",
      "metadata": {
        "id": "xagMUPIuA6D9",
        "colab_type": "code",
        "colab": {}
      },
      "source": [
        "cric_df = cric_df.assign(outcome=(cric_df['Result'] == 'won').astype(int))"
      ],
      "execution_count": 0,
      "outputs": []
    },
    {
      "cell_type": "code",
      "metadata": {
        "id": "KrIoN_VnBPLl",
        "colab_type": "code",
        "outputId": "bf12ada5-8256-40df-b3c6-58f4756903ce",
        "colab": {
          "base_uri": "https://localhost:8080/",
          "height": 297
        }
      },
      "source": [
        "cric_df = cric_df.assign(day=cric_df['Start Date'].dt.day,\n",
        "               month=cric_df['Start Date'].dt.month,\n",
        "               year=cric_df['Start Date'].dt.year)\n",
        "\n",
        "cric_df.head()"
      ],
      "execution_count": 6,
      "outputs": [
        {
          "output_type": "execute_result",
          "data": {
            "text/html": [
              "<div>\n",
              "<style scoped>\n",
              "    .dataframe tbody tr th:only-of-type {\n",
              "        vertical-align: middle;\n",
              "    }\n",
              "\n",
              "    .dataframe tbody tr th {\n",
              "        vertical-align: top;\n",
              "    }\n",
              "\n",
              "    .dataframe thead th {\n",
              "        text-align: right;\n",
              "    }\n",
              "</style>\n",
              "<table border=\"1\" class=\"dataframe\">\n",
              "  <thead>\n",
              "    <tr style=\"text-align: right;\">\n",
              "      <th></th>\n",
              "      <th>Team</th>\n",
              "      <th>Match Score</th>\n",
              "      <th>Wickets</th>\n",
              "      <th>Overs</th>\n",
              "      <th>RPO</th>\n",
              "      <th>Inns</th>\n",
              "      <th>Result</th>\n",
              "      <th>Opposition</th>\n",
              "      <th>Ground</th>\n",
              "      <th>Start Date</th>\n",
              "      <th>Margin</th>\n",
              "      <th>BR</th>\n",
              "      <th>Toss</th>\n",
              "      <th>Bat</th>\n",
              "      <th>Rank</th>\n",
              "      <th>outcome</th>\n",
              "      <th>day</th>\n",
              "      <th>month</th>\n",
              "      <th>year</th>\n",
              "    </tr>\n",
              "  </thead>\n",
              "  <tbody>\n",
              "    <tr>\n",
              "      <th>0</th>\n",
              "      <td>India</td>\n",
              "      <td>289</td>\n",
              "      <td>3.0</td>\n",
              "      <td>47.3</td>\n",
              "      <td>6.08</td>\n",
              "      <td>2</td>\n",
              "      <td>won</td>\n",
              "      <td>v Australia</td>\n",
              "      <td>Bengaluru</td>\n",
              "      <td>2020-01-19</td>\n",
              "      <td>7 wickets</td>\n",
              "      <td>15.0</td>\n",
              "      <td>lost</td>\n",
              "      <td>2nd</td>\n",
              "      <td>2</td>\n",
              "      <td>1</td>\n",
              "      <td>19</td>\n",
              "      <td>1</td>\n",
              "      <td>2020</td>\n",
              "    </tr>\n",
              "    <tr>\n",
              "      <th>1</th>\n",
              "      <td>India</td>\n",
              "      <td>340</td>\n",
              "      <td>6.0</td>\n",
              "      <td>50.0</td>\n",
              "      <td>6.80</td>\n",
              "      <td>1</td>\n",
              "      <td>won</td>\n",
              "      <td>v Australia</td>\n",
              "      <td>Rajkot</td>\n",
              "      <td>2020-01-17</td>\n",
              "      <td>36 runs</td>\n",
              "      <td>NaN</td>\n",
              "      <td>lost</td>\n",
              "      <td>1st</td>\n",
              "      <td>2</td>\n",
              "      <td>1</td>\n",
              "      <td>17</td>\n",
              "      <td>1</td>\n",
              "      <td>2020</td>\n",
              "    </tr>\n",
              "    <tr>\n",
              "      <th>2</th>\n",
              "      <td>India</td>\n",
              "      <td>255</td>\n",
              "      <td>NaN</td>\n",
              "      <td>49.1</td>\n",
              "      <td>5.18</td>\n",
              "      <td>1</td>\n",
              "      <td>lost</td>\n",
              "      <td>v Australia</td>\n",
              "      <td>Mumbai</td>\n",
              "      <td>2020-01-14</td>\n",
              "      <td>10 wickets</td>\n",
              "      <td>74.0</td>\n",
              "      <td>lost</td>\n",
              "      <td>1st</td>\n",
              "      <td>2</td>\n",
              "      <td>0</td>\n",
              "      <td>14</td>\n",
              "      <td>1</td>\n",
              "      <td>2020</td>\n",
              "    </tr>\n",
              "    <tr>\n",
              "      <th>3</th>\n",
              "      <td>India</td>\n",
              "      <td>352</td>\n",
              "      <td>5.0</td>\n",
              "      <td>50.0</td>\n",
              "      <td>7.04</td>\n",
              "      <td>1</td>\n",
              "      <td>won</td>\n",
              "      <td>v Australia</td>\n",
              "      <td>The Oval</td>\n",
              "      <td>2019-06-09</td>\n",
              "      <td>36 runs</td>\n",
              "      <td>NaN</td>\n",
              "      <td>won</td>\n",
              "      <td>1st</td>\n",
              "      <td>2</td>\n",
              "      <td>1</td>\n",
              "      <td>9</td>\n",
              "      <td>6</td>\n",
              "      <td>2019</td>\n",
              "    </tr>\n",
              "    <tr>\n",
              "      <th>4</th>\n",
              "      <td>India</td>\n",
              "      <td>237</td>\n",
              "      <td>NaN</td>\n",
              "      <td>50.0</td>\n",
              "      <td>4.74</td>\n",
              "      <td>2</td>\n",
              "      <td>lost</td>\n",
              "      <td>v Australia</td>\n",
              "      <td>Delhi</td>\n",
              "      <td>2019-03-13</td>\n",
              "      <td>35 runs</td>\n",
              "      <td>NaN</td>\n",
              "      <td>lost</td>\n",
              "      <td>2nd</td>\n",
              "      <td>2</td>\n",
              "      <td>0</td>\n",
              "      <td>13</td>\n",
              "      <td>3</td>\n",
              "      <td>2019</td>\n",
              "    </tr>\n",
              "  </tbody>\n",
              "</table>\n",
              "</div>"
            ],
            "text/plain": [
              "    Team  Match Score  Wickets  Overs   RPO  ...  Rank outcome day month  year\n",
              "0  India          289      3.0   47.3  6.08  ...     2       1  19     1  2020\n",
              "1  India          340      6.0   50.0  6.80  ...     2       1  17     1  2020\n",
              "2  India          255      NaN   49.1  5.18  ...     2       0  14     1  2020\n",
              "3  India          352      5.0   50.0  7.04  ...     2       1   9     6  2019\n",
              "4  India          237      NaN   50.0  4.74  ...     2       0  13     3  2019\n",
              "\n",
              "[5 rows x 19 columns]"
            ]
          },
          "metadata": {
            "tags": []
          },
          "execution_count": 6
        }
      ]
    },
    {
      "cell_type": "code",
      "metadata": {
        "id": "TrDzK4y6CIZE",
        "colab_type": "code",
        "colab": {}
      },
      "source": [
        "cric_df['Wickets'].fillna(0, inplace = True)"
      ],
      "execution_count": 0,
      "outputs": []
    },
    {
      "cell_type": "code",
      "metadata": {
        "id": "CRUvwb5pEh-9",
        "colab_type": "code",
        "outputId": "aa5a15a1-8bc3-4296-f481-5d66a1b2164f",
        "colab": {
          "base_uri": "https://localhost:8080/",
          "height": 285
        }
      },
      "source": [
        "cric_df.describe()"
      ],
      "execution_count": 8,
      "outputs": [
        {
          "output_type": "execute_result",
          "data": {
            "text/html": [
              "<div>\n",
              "<style scoped>\n",
              "    .dataframe tbody tr th:only-of-type {\n",
              "        vertical-align: middle;\n",
              "    }\n",
              "\n",
              "    .dataframe tbody tr th {\n",
              "        vertical-align: top;\n",
              "    }\n",
              "\n",
              "    .dataframe thead th {\n",
              "        text-align: right;\n",
              "    }\n",
              "</style>\n",
              "<table border=\"1\" class=\"dataframe\">\n",
              "  <thead>\n",
              "    <tr style=\"text-align: right;\">\n",
              "      <th></th>\n",
              "      <th>Match Score</th>\n",
              "      <th>Wickets</th>\n",
              "      <th>Overs</th>\n",
              "      <th>RPO</th>\n",
              "      <th>Inns</th>\n",
              "      <th>BR</th>\n",
              "      <th>Rank</th>\n",
              "      <th>outcome</th>\n",
              "      <th>day</th>\n",
              "      <th>month</th>\n",
              "      <th>year</th>\n",
              "    </tr>\n",
              "  </thead>\n",
              "  <tbody>\n",
              "    <tr>\n",
              "      <th>count</th>\n",
              "      <td>770.000000</td>\n",
              "      <td>770.000000</td>\n",
              "      <td>770.000000</td>\n",
              "      <td>770.000000</td>\n",
              "      <td>770.000000</td>\n",
              "      <td>380.000000</td>\n",
              "      <td>770.000000</td>\n",
              "      <td>770.000000</td>\n",
              "      <td>770.000000</td>\n",
              "      <td>770.000000</td>\n",
              "      <td>770.000000</td>\n",
              "    </tr>\n",
              "    <tr>\n",
              "      <th>mean</th>\n",
              "      <td>252.815584</td>\n",
              "      <td>3.942857</td>\n",
              "      <td>44.491039</td>\n",
              "      <td>5.678156</td>\n",
              "      <td>1.500000</td>\n",
              "      <td>53.547368</td>\n",
              "      <td>4.689610</td>\n",
              "      <td>0.500000</td>\n",
              "      <td>16.103896</td>\n",
              "      <td>5.594805</td>\n",
              "      <td>2017.093506</td>\n",
              "    </tr>\n",
              "    <tr>\n",
              "      <th>std</th>\n",
              "      <td>66.747606</td>\n",
              "      <td>3.364213</td>\n",
              "      <td>7.981388</td>\n",
              "      <td>1.140363</td>\n",
              "      <td>0.500325</td>\n",
              "      <td>56.482424</td>\n",
              "      <td>2.574461</td>\n",
              "      <td>0.500325</td>\n",
              "      <td>8.755581</td>\n",
              "      <td>3.540878</td>\n",
              "      <td>1.513385</td>\n",
              "    </tr>\n",
              "    <tr>\n",
              "      <th>min</th>\n",
              "      <td>74.000000</td>\n",
              "      <td>0.000000</td>\n",
              "      <td>8.200000</td>\n",
              "      <td>2.700000</td>\n",
              "      <td>1.000000</td>\n",
              "      <td>0.000000</td>\n",
              "      <td>1.000000</td>\n",
              "      <td>0.000000</td>\n",
              "      <td>1.000000</td>\n",
              "      <td>1.000000</td>\n",
              "      <td>2015.000000</td>\n",
              "    </tr>\n",
              "    <tr>\n",
              "      <th>25%</th>\n",
              "      <td>209.250000</td>\n",
              "      <td>0.000000</td>\n",
              "      <td>42.125000</td>\n",
              "      <td>4.890000</td>\n",
              "      <td>1.000000</td>\n",
              "      <td>11.000000</td>\n",
              "      <td>2.000000</td>\n",
              "      <td>0.000000</td>\n",
              "      <td>9.000000</td>\n",
              "      <td>2.000000</td>\n",
              "      <td>2016.000000</td>\n",
              "    </tr>\n",
              "    <tr>\n",
              "      <th>50%</th>\n",
              "      <td>255.500000</td>\n",
              "      <td>4.000000</td>\n",
              "      <td>48.300000</td>\n",
              "      <td>5.620000</td>\n",
              "      <td>1.500000</td>\n",
              "      <td>32.000000</td>\n",
              "      <td>4.000000</td>\n",
              "      <td>0.500000</td>\n",
              "      <td>16.000000</td>\n",
              "      <td>6.000000</td>\n",
              "      <td>2017.000000</td>\n",
              "    </tr>\n",
              "    <tr>\n",
              "      <th>75%</th>\n",
              "      <td>299.000000</td>\n",
              "      <td>7.000000</td>\n",
              "      <td>50.000000</td>\n",
              "      <td>6.320000</td>\n",
              "      <td>2.000000</td>\n",
              "      <td>78.000000</td>\n",
              "      <td>7.000000</td>\n",
              "      <td>1.000000</td>\n",
              "      <td>24.000000</td>\n",
              "      <td>9.000000</td>\n",
              "      <td>2019.000000</td>\n",
              "    </tr>\n",
              "    <tr>\n",
              "      <th>max</th>\n",
              "      <td>481.000000</td>\n",
              "      <td>9.000000</td>\n",
              "      <td>50.000000</td>\n",
              "      <td>14.160000</td>\n",
              "      <td>2.000000</td>\n",
              "      <td>250.000000</td>\n",
              "      <td>9.000000</td>\n",
              "      <td>1.000000</td>\n",
              "      <td>31.000000</td>\n",
              "      <td>12.000000</td>\n",
              "      <td>2020.000000</td>\n",
              "    </tr>\n",
              "  </tbody>\n",
              "</table>\n",
              "</div>"
            ],
            "text/plain": [
              "       Match Score     Wickets       Overs  ...         day       month         year\n",
              "count   770.000000  770.000000  770.000000  ...  770.000000  770.000000   770.000000\n",
              "mean    252.815584    3.942857   44.491039  ...   16.103896    5.594805  2017.093506\n",
              "std      66.747606    3.364213    7.981388  ...    8.755581    3.540878     1.513385\n",
              "min      74.000000    0.000000    8.200000  ...    1.000000    1.000000  2015.000000\n",
              "25%     209.250000    0.000000   42.125000  ...    9.000000    2.000000  2016.000000\n",
              "50%     255.500000    4.000000   48.300000  ...   16.000000    6.000000  2017.000000\n",
              "75%     299.000000    7.000000   50.000000  ...   24.000000    9.000000  2019.000000\n",
              "max     481.000000    9.000000   50.000000  ...   31.000000   12.000000  2020.000000\n",
              "\n",
              "[8 rows x 11 columns]"
            ]
          },
          "metadata": {
            "tags": []
          },
          "execution_count": 8
        }
      ]
    },
    {
      "cell_type": "code",
      "metadata": {
        "id": "ssG8mCH7EqSd",
        "colab_type": "code",
        "outputId": "b5f4eeb3-c1a2-404b-85a7-f38732270867",
        "colab": {
          "base_uri": "https://localhost:8080/",
          "height": 33
        }
      },
      "source": [
        "cric_df['Start Date'].isna().sum()"
      ],
      "execution_count": 9,
      "outputs": [
        {
          "output_type": "execute_result",
          "data": {
            "text/plain": [
              "0"
            ]
          },
          "metadata": {
            "tags": []
          },
          "execution_count": 9
        }
      ]
    },
    {
      "cell_type": "code",
      "metadata": {
        "id": "lnxpz4-qEykb",
        "colab_type": "code",
        "outputId": "5c45fcb3-043f-4355-847c-c6a664d29eae",
        "colab": {
          "base_uri": "https://localhost:8080/",
          "height": 297
        }
      },
      "source": [
        "cric_df['BR'].fillna(0, inplace = True)\n",
        "cric_df.head()"
      ],
      "execution_count": 10,
      "outputs": [
        {
          "output_type": "execute_result",
          "data": {
            "text/html": [
              "<div>\n",
              "<style scoped>\n",
              "    .dataframe tbody tr th:only-of-type {\n",
              "        vertical-align: middle;\n",
              "    }\n",
              "\n",
              "    .dataframe tbody tr th {\n",
              "        vertical-align: top;\n",
              "    }\n",
              "\n",
              "    .dataframe thead th {\n",
              "        text-align: right;\n",
              "    }\n",
              "</style>\n",
              "<table border=\"1\" class=\"dataframe\">\n",
              "  <thead>\n",
              "    <tr style=\"text-align: right;\">\n",
              "      <th></th>\n",
              "      <th>Team</th>\n",
              "      <th>Match Score</th>\n",
              "      <th>Wickets</th>\n",
              "      <th>Overs</th>\n",
              "      <th>RPO</th>\n",
              "      <th>Inns</th>\n",
              "      <th>Result</th>\n",
              "      <th>Opposition</th>\n",
              "      <th>Ground</th>\n",
              "      <th>Start Date</th>\n",
              "      <th>Margin</th>\n",
              "      <th>BR</th>\n",
              "      <th>Toss</th>\n",
              "      <th>Bat</th>\n",
              "      <th>Rank</th>\n",
              "      <th>outcome</th>\n",
              "      <th>day</th>\n",
              "      <th>month</th>\n",
              "      <th>year</th>\n",
              "    </tr>\n",
              "  </thead>\n",
              "  <tbody>\n",
              "    <tr>\n",
              "      <th>0</th>\n",
              "      <td>India</td>\n",
              "      <td>289</td>\n",
              "      <td>3.0</td>\n",
              "      <td>47.3</td>\n",
              "      <td>6.08</td>\n",
              "      <td>2</td>\n",
              "      <td>won</td>\n",
              "      <td>v Australia</td>\n",
              "      <td>Bengaluru</td>\n",
              "      <td>2020-01-19</td>\n",
              "      <td>7 wickets</td>\n",
              "      <td>15.0</td>\n",
              "      <td>lost</td>\n",
              "      <td>2nd</td>\n",
              "      <td>2</td>\n",
              "      <td>1</td>\n",
              "      <td>19</td>\n",
              "      <td>1</td>\n",
              "      <td>2020</td>\n",
              "    </tr>\n",
              "    <tr>\n",
              "      <th>1</th>\n",
              "      <td>India</td>\n",
              "      <td>340</td>\n",
              "      <td>6.0</td>\n",
              "      <td>50.0</td>\n",
              "      <td>6.80</td>\n",
              "      <td>1</td>\n",
              "      <td>won</td>\n",
              "      <td>v Australia</td>\n",
              "      <td>Rajkot</td>\n",
              "      <td>2020-01-17</td>\n",
              "      <td>36 runs</td>\n",
              "      <td>0.0</td>\n",
              "      <td>lost</td>\n",
              "      <td>1st</td>\n",
              "      <td>2</td>\n",
              "      <td>1</td>\n",
              "      <td>17</td>\n",
              "      <td>1</td>\n",
              "      <td>2020</td>\n",
              "    </tr>\n",
              "    <tr>\n",
              "      <th>2</th>\n",
              "      <td>India</td>\n",
              "      <td>255</td>\n",
              "      <td>0.0</td>\n",
              "      <td>49.1</td>\n",
              "      <td>5.18</td>\n",
              "      <td>1</td>\n",
              "      <td>lost</td>\n",
              "      <td>v Australia</td>\n",
              "      <td>Mumbai</td>\n",
              "      <td>2020-01-14</td>\n",
              "      <td>10 wickets</td>\n",
              "      <td>74.0</td>\n",
              "      <td>lost</td>\n",
              "      <td>1st</td>\n",
              "      <td>2</td>\n",
              "      <td>0</td>\n",
              "      <td>14</td>\n",
              "      <td>1</td>\n",
              "      <td>2020</td>\n",
              "    </tr>\n",
              "    <tr>\n",
              "      <th>3</th>\n",
              "      <td>India</td>\n",
              "      <td>352</td>\n",
              "      <td>5.0</td>\n",
              "      <td>50.0</td>\n",
              "      <td>7.04</td>\n",
              "      <td>1</td>\n",
              "      <td>won</td>\n",
              "      <td>v Australia</td>\n",
              "      <td>The Oval</td>\n",
              "      <td>2019-06-09</td>\n",
              "      <td>36 runs</td>\n",
              "      <td>0.0</td>\n",
              "      <td>won</td>\n",
              "      <td>1st</td>\n",
              "      <td>2</td>\n",
              "      <td>1</td>\n",
              "      <td>9</td>\n",
              "      <td>6</td>\n",
              "      <td>2019</td>\n",
              "    </tr>\n",
              "    <tr>\n",
              "      <th>4</th>\n",
              "      <td>India</td>\n",
              "      <td>237</td>\n",
              "      <td>0.0</td>\n",
              "      <td>50.0</td>\n",
              "      <td>4.74</td>\n",
              "      <td>2</td>\n",
              "      <td>lost</td>\n",
              "      <td>v Australia</td>\n",
              "      <td>Delhi</td>\n",
              "      <td>2019-03-13</td>\n",
              "      <td>35 runs</td>\n",
              "      <td>0.0</td>\n",
              "      <td>lost</td>\n",
              "      <td>2nd</td>\n",
              "      <td>2</td>\n",
              "      <td>0</td>\n",
              "      <td>13</td>\n",
              "      <td>3</td>\n",
              "      <td>2019</td>\n",
              "    </tr>\n",
              "  </tbody>\n",
              "</table>\n",
              "</div>"
            ],
            "text/plain": [
              "    Team  Match Score  Wickets  Overs   RPO  ...  Rank outcome day month  year\n",
              "0  India          289      3.0   47.3  6.08  ...     2       1  19     1  2020\n",
              "1  India          340      6.0   50.0  6.80  ...     2       1  17     1  2020\n",
              "2  India          255      0.0   49.1  5.18  ...     2       0  14     1  2020\n",
              "3  India          352      5.0   50.0  7.04  ...     2       1   9     6  2019\n",
              "4  India          237      0.0   50.0  4.74  ...     2       0  13     3  2019\n",
              "\n",
              "[5 rows x 19 columns]"
            ]
          },
          "metadata": {
            "tags": []
          },
          "execution_count": 10
        }
      ]
    },
    {
      "cell_type": "markdown",
      "metadata": {
        "id": "qAfgl14JFzA_",
        "colab_type": "text"
      },
      "source": [
        "# Univariate Analysis"
      ]
    },
    {
      "cell_type": "code",
      "metadata": {
        "id": "OTPkSXJvFnWO",
        "colab_type": "code",
        "outputId": "ab776c5d-a00d-415e-d40a-e3a2977251f0",
        "colab": {
          "base_uri": "https://localhost:8080/",
          "height": 296
        }
      },
      "source": [
        "sns.distplot(cric_df['Match Score'])"
      ],
      "execution_count": 11,
      "outputs": [
        {
          "output_type": "execute_result",
          "data": {
            "text/plain": [
              "<matplotlib.axes._subplots.AxesSubplot at 0x7f46f27f1e80>"
            ]
          },
          "metadata": {
            "tags": []
          },
          "execution_count": 11
        },
        {
          "output_type": "display_data",
          "data": {
            "image/png": "[encoded data removed]",
            "text/plain": [
              "<Figure size 432x288 with 1 Axes>"
            ]
          },
          "metadata": {
            "tags": []
          }
        }
      ]
    },
    {
      "cell_type": "code",
      "metadata": {
        "id": "WXRjAMeDGHkC",
        "colab_type": "code",
        "outputId": "85241458-ef98-43ee-9346-aa09aeb81bf8",
        "colab": {
          "base_uri": "https://localhost:8080/",
          "height": 296
        }
      },
      "source": [
        "sns.distplot(cric_df['Wickets'])"
      ],
      "execution_count": 12,
      "outputs": [
        {
          "output_type": "execute_result",
          "data": {
            "text/plain": [
              "<matplotlib.axes._subplots.AxesSubplot at 0x7f46f2773908>"
            ]
          },
          "metadata": {
            "tags": []
          },
          "execution_count": 12
        },
        {
          "output_type": "display_data",
          "data": {
            "image/png": "[encoded data removed]",
            "text/plain": [
              "<Figure size 432x288 with 1 Axes>"
            ]
          },
          "metadata": {
            "tags": []
          }
        }
      ]
    },
    {
      "cell_type": "markdown",
      "metadata": {
        "id": "BHVreQPjGaQc",
        "colab_type": "text"
      },
      "source": [
        "Distribution of Wickets is not normal"
      ]
    },
    {
      "cell_type": "code",
      "metadata": {
        "id": "LSwf_ymQGRGz",
        "colab_type": "code",
        "outputId": "d78660a5-69e5-4089-b932-83eb3f9beaae",
        "colab": {
          "base_uri": "https://localhost:8080/",
          "height": 296
        }
      },
      "source": [
        "sns.distplot(cric_df['Overs'])"
      ],
      "execution_count": 13,
      "outputs": [
        {
          "output_type": "execute_result",
          "data": {
            "text/plain": [
              "<matplotlib.axes._subplots.AxesSubplot at 0x7f46f2269550>"
            ]
          },
          "metadata": {
            "tags": []
          },
          "execution_count": 13
        },
        {
          "output_type": "display_data",
          "data": {
            "image/png": "[encoded data removed]",
            "text/plain": [
              "<Figure size 432x288 with 1 Axes>"
            ]
          },
          "metadata": {
            "tags": []
          }
        }
      ]
    },
    {
      "cell_type": "markdown",
      "metadata": {
        "id": "IGYUff1CGoRX",
        "colab_type": "text"
      },
      "source": [
        "Distribution of Wickets is highly negatively skewed"
      ]
    },
    {
      "cell_type": "code",
      "metadata": {
        "id": "YNVobhoaGiZQ",
        "colab_type": "code",
        "outputId": "2eefff19-f93a-4a2b-8233-effaedfbf5c7",
        "colab": {
          "base_uri": "https://localhost:8080/",
          "height": 300
        }
      },
      "source": [
        "sns.distplot(cric_df['RPO'])"
      ],
      "execution_count": 14,
      "outputs": [
        {
          "output_type": "execute_result",
          "data": {
            "text/plain": [
              "<matplotlib.axes._subplots.AxesSubplot at 0x7f46f2214400>"
            ]
          },
          "metadata": {
            "tags": []
          },
          "execution_count": 14
        },
        {
          "output_type": "display_data",
          "data": {
            "image/png": "[encoded data removed]",
            "text/plain": [
              "<Figure size 432x288 with 1 Axes>"
            ]
          },
          "metadata": {
            "tags": []
          }
        }
      ]
    },
    {
      "cell_type": "code",
      "metadata": {
        "id": "8w0c3NY0G1Mt",
        "colab_type": "code",
        "outputId": "dd63327b-dbfa-4563-f874-3d722b75467f",
        "colab": {
          "base_uri": "https://localhost:8080/",
          "height": 296
        }
      },
      "source": [
        "sns.distplot(cric_df['BR'])"
      ],
      "execution_count": 15,
      "outputs": [
        {
          "output_type": "execute_result",
          "data": {
            "text/plain": [
              "<matplotlib.axes._subplots.AxesSubplot at 0x7f46f20947b8>"
            ]
          },
          "metadata": {
            "tags": []
          },
          "execution_count": 15
        },
        {
          "output_type": "display_data",
          "data": {
            "image/png": "[encoded data removed]",
            "text/plain": [
              "<Figure size 432x288 with 1 Axes>"
            ]
          },
          "metadata": {
            "tags": []
          }
        }
      ]
    },
    {
      "cell_type": "code",
      "metadata": {
        "id": "gN9rPt4tQnBE",
        "colab_type": "code",
        "outputId": "fad9f892-c1da-497e-eac1-23338fa99438",
        "colab": {
          "base_uri": "https://localhost:8080/",
          "height": 317
        }
      },
      "source": [
        "from sklearn.preprocessing import StandardScaler\n",
        "scaler = StandardScaler()\n",
        "scaler.fit(cric_df[['BR', 'Overs']])\n",
        "cric_df['normalized_BR'], cric_df['normalized_overs'] = zip(*scaler.transform(cric_df[['BR', 'Overs']]))\n",
        "cric_df.head()"
      ],
      "execution_count": 16,
      "outputs": [
        {
          "output_type": "execute_result",
          "data": {
            "text/html": [
              "<div>\n",
              "<style scoped>\n",
              "    .dataframe tbody tr th:only-of-type {\n",
              "        vertical-align: middle;\n",
              "    }\n",
              "\n",
              "    .dataframe tbody tr th {\n",
              "        vertical-align: top;\n",
              "    }\n",
              "\n",
              "    .dataframe thead th {\n",
              "        text-align: right;\n",
              "    }\n",
              "</style>\n",
              "<table border=\"1\" class=\"dataframe\">\n",
              "  <thead>\n",
              "    <tr style=\"text-align: right;\">\n",
              "      <th></th>\n",
              "      <th>Team</th>\n",
              "      <th>Match Score</th>\n",
              "      <th>Wickets</th>\n",
              "      <th>Overs</th>\n",
              "      <th>RPO</th>\n",
              "      <th>Inns</th>\n",
              "      <th>Result</th>\n",
              "      <th>Opposition</th>\n",
              "      <th>Ground</th>\n",
              "      <th>Start Date</th>\n",
              "      <th>Margin</th>\n",
              "      <th>BR</th>\n",
              "      <th>Toss</th>\n",
              "      <th>Bat</th>\n",
              "      <th>Rank</th>\n",
              "      <th>outcome</th>\n",
              "      <th>day</th>\n",
              "      <th>month</th>\n",
              "      <th>year</th>\n",
              "      <th>normalized_BR</th>\n",
              "      <th>normalized_overs</th>\n",
              "    </tr>\n",
              "  </thead>\n",
              "  <tbody>\n",
              "    <tr>\n",
              "      <th>0</th>\n",
              "      <td>India</td>\n",
              "      <td>289</td>\n",
              "      <td>3.0</td>\n",
              "      <td>47.3</td>\n",
              "      <td>6.08</td>\n",
              "      <td>2</td>\n",
              "      <td>won</td>\n",
              "      <td>v Australia</td>\n",
              "      <td>Bengaluru</td>\n",
              "      <td>2020-01-19</td>\n",
              "      <td>7 wickets</td>\n",
              "      <td>15.0</td>\n",
              "      <td>lost</td>\n",
              "      <td>2nd</td>\n",
              "      <td>2</td>\n",
              "      <td>1</td>\n",
              "      <td>19</td>\n",
              "      <td>1</td>\n",
              "      <td>2020</td>\n",
              "      <td>-0.238925</td>\n",
              "      <td>0.352168</td>\n",
              "    </tr>\n",
              "    <tr>\n",
              "      <th>1</th>\n",
              "      <td>India</td>\n",
              "      <td>340</td>\n",
              "      <td>6.0</td>\n",
              "      <td>50.0</td>\n",
              "      <td>6.80</td>\n",
              "      <td>1</td>\n",
              "      <td>won</td>\n",
              "      <td>v Australia</td>\n",
              "      <td>Rajkot</td>\n",
              "      <td>2020-01-17</td>\n",
              "      <td>36 runs</td>\n",
              "      <td>0.0</td>\n",
              "      <td>lost</td>\n",
              "      <td>1st</td>\n",
              "      <td>2</td>\n",
              "      <td>1</td>\n",
              "      <td>17</td>\n",
              "      <td>1</td>\n",
              "      <td>2020</td>\n",
              "      <td>-0.552586</td>\n",
              "      <td>0.690675</td>\n",
              "    </tr>\n",
              "    <tr>\n",
              "      <th>2</th>\n",
              "      <td>India</td>\n",
              "      <td>255</td>\n",
              "      <td>0.0</td>\n",
              "      <td>49.1</td>\n",
              "      <td>5.18</td>\n",
              "      <td>1</td>\n",
              "      <td>lost</td>\n",
              "      <td>v Australia</td>\n",
              "      <td>Mumbai</td>\n",
              "      <td>2020-01-14</td>\n",
              "      <td>10 wickets</td>\n",
              "      <td>74.0</td>\n",
              "      <td>lost</td>\n",
              "      <td>1st</td>\n",
              "      <td>2</td>\n",
              "      <td>0</td>\n",
              "      <td>14</td>\n",
              "      <td>1</td>\n",
              "      <td>2020</td>\n",
              "      <td>0.994806</td>\n",
              "      <td>0.577839</td>\n",
              "    </tr>\n",
              "    <tr>\n",
              "      <th>3</th>\n",
              "      <td>India</td>\n",
              "      <td>352</td>\n",
              "      <td>5.0</td>\n",
              "      <td>50.0</td>\n",
              "      <td>7.04</td>\n",
              "      <td>1</td>\n",
              "      <td>won</td>\n",
              "      <td>v Australia</td>\n",
              "      <td>The Oval</td>\n",
              "      <td>2019-06-09</td>\n",
              "      <td>36 runs</td>\n",
              "      <td>0.0</td>\n",
              "      <td>won</td>\n",
              "      <td>1st</td>\n",
              "      <td>2</td>\n",
              "      <td>1</td>\n",
              "      <td>9</td>\n",
              "      <td>6</td>\n",
              "      <td>2019</td>\n",
              "      <td>-0.552586</td>\n",
              "      <td>0.690675</td>\n",
              "    </tr>\n",
              "    <tr>\n",
              "      <th>4</th>\n",
              "      <td>India</td>\n",
              "      <td>237</td>\n",
              "      <td>0.0</td>\n",
              "      <td>50.0</td>\n",
              "      <td>4.74</td>\n",
              "      <td>2</td>\n",
              "      <td>lost</td>\n",
              "      <td>v Australia</td>\n",
              "      <td>Delhi</td>\n",
              "      <td>2019-03-13</td>\n",
              "      <td>35 runs</td>\n",
              "      <td>0.0</td>\n",
              "      <td>lost</td>\n",
              "      <td>2nd</td>\n",
              "      <td>2</td>\n",
              "      <td>0</td>\n",
              "      <td>13</td>\n",
              "      <td>3</td>\n",
              "      <td>2019</td>\n",
              "      <td>-0.552586</td>\n",
              "      <td>0.690675</td>\n",
              "    </tr>\n",
              "  </tbody>\n",
              "</table>\n",
              "</div>"
            ],
            "text/plain": [
              "    Team  Match Score  Wickets  ...  year  normalized_BR  normalized_overs\n",
              "0  India          289      3.0  ...  2020      -0.238925          0.352168\n",
              "1  India          340      6.0  ...  2020      -0.552586          0.690675\n",
              "2  India          255      0.0  ...  2020       0.994806          0.577839\n",
              "3  India          352      5.0  ...  2019      -0.552586          0.690675\n",
              "4  India          237      0.0  ...  2019      -0.552586          0.690675\n",
              "\n",
              "[5 rows x 21 columns]"
            ]
          },
          "metadata": {
            "tags": []
          },
          "execution_count": 16
        }
      ]
    },
    {
      "cell_type": "code",
      "metadata": {
        "id": "HYwDyYYbSTUU",
        "colab_type": "code",
        "outputId": "3998b1ee-7029-4166-ee3c-25990544a2a3",
        "colab": {
          "base_uri": "https://localhost:8080/",
          "height": 297
        }
      },
      "source": [
        "sns.distplot(cric_df['normalized_BR'])"
      ],
      "execution_count": 17,
      "outputs": [
        {
          "output_type": "execute_result",
          "data": {
            "text/plain": [
              "<matplotlib.axes._subplots.AxesSubplot at 0x7f46f2056400>"
            ]
          },
          "metadata": {
            "tags": []
          },
          "execution_count": 17
        },
        {
          "output_type": "display_data",
          "data": {
            "image/png": "[encoded data removed]",
            "text/plain": [
              "<Figure size 432x288 with 1 Axes>"
            ]
          },
          "metadata": {
            "tags": []
          }
        }
      ]
    },
    {
      "cell_type": "code",
      "metadata": {
        "id": "pZ-5TYTdW4vf",
        "colab_type": "code",
        "outputId": "57bf037f-8166-4c42-a2e6-a754a9d8857f",
        "colab": {
          "base_uri": "https://localhost:8080/",
          "height": 297
        }
      },
      "source": [
        "sns.distplot(cric_df['normalized_overs'])"
      ],
      "execution_count": 18,
      "outputs": [
        {
          "output_type": "execute_result",
          "data": {
            "text/plain": [
              "<matplotlib.axes._subplots.AxesSubplot at 0x7f46f0fe0748>"
            ]
          },
          "metadata": {
            "tags": []
          },
          "execution_count": 18
        },
        {
          "output_type": "display_data",
          "data": {
            "image/png": "[encoded data removed]",
            "text/plain": [
              "<Figure size 432x288 with 1 Axes>"
            ]
          },
          "metadata": {
            "tags": []
          }
        }
      ]
    },
    {
      "cell_type": "code",
      "metadata": {
        "id": "tZab3EmzXaBb",
        "colab_type": "code",
        "outputId": "1850274c-fd9e-4b6b-c3e7-a6497c862395",
        "colab": {
          "base_uri": "https://localhost:8080/",
          "height": 317
        }
      },
      "source": [
        "from sklearn.preprocessing import StandardScaler\n",
        "scaler = StandardScaler()\n",
        "scaler.fit(cric_df[['Match Score', 'RPO']])\n",
        "cric_df['normalized_match_score'], cric_df['normalized_RPO'] = zip(*scaler.transform(cric_df[['Match Score', 'RPO']]))\n",
        "cric_df.head()"
      ],
      "execution_count": 19,
      "outputs": [
        {
          "output_type": "execute_result",
          "data": {
            "text/html": [
              "<div>\n",
              "<style scoped>\n",
              "    .dataframe tbody tr th:only-of-type {\n",
              "        vertical-align: middle;\n",
              "    }\n",
              "\n",
              "    .dataframe tbody tr th {\n",
              "        vertical-align: top;\n",
              "    }\n",
              "\n",
              "    .dataframe thead th {\n",
              "        text-align: right;\n",
              "    }\n",
              "</style>\n",
              "<table border=\"1\" class=\"dataframe\">\n",
              "  <thead>\n",
              "    <tr style=\"text-align: right;\">\n",
              "      <th></th>\n",
              "      <th>Team</th>\n",
              "      <th>Match Score</th>\n",
              "      <th>Wickets</th>\n",
              "      <th>Overs</th>\n",
              "      <th>RPO</th>\n",
              "      <th>Inns</th>\n",
              "      <th>Result</th>\n",
              "      <th>Opposition</th>\n",
              "      <th>Ground</th>\n",
              "      <th>Start Date</th>\n",
              "      <th>Margin</th>\n",
              "      <th>BR</th>\n",
              "      <th>Toss</th>\n",
              "      <th>Bat</th>\n",
              "      <th>Rank</th>\n",
              "      <th>outcome</th>\n",
              "      <th>day</th>\n",
              "      <th>month</th>\n",
              "      <th>year</th>\n",
              "      <th>normalized_BR</th>\n",
              "      <th>normalized_overs</th>\n",
              "      <th>normalized_match_score</th>\n",
              "      <th>normalized_RPO</th>\n",
              "    </tr>\n",
              "  </thead>\n",
              "  <tbody>\n",
              "    <tr>\n",
              "      <th>0</th>\n",
              "      <td>India</td>\n",
              "      <td>289</td>\n",
              "      <td>3.0</td>\n",
              "      <td>47.3</td>\n",
              "      <td>6.08</td>\n",
              "      <td>2</td>\n",
              "      <td>won</td>\n",
              "      <td>v Australia</td>\n",
              "      <td>Bengaluru</td>\n",
              "      <td>2020-01-19</td>\n",
              "      <td>7 wickets</td>\n",
              "      <td>15.0</td>\n",
              "      <td>lost</td>\n",
              "      <td>2nd</td>\n",
              "      <td>2</td>\n",
              "      <td>1</td>\n",
              "      <td>19</td>\n",
              "      <td>1</td>\n",
              "      <td>2020</td>\n",
              "      <td>-0.238925</td>\n",
              "      <td>0.352168</td>\n",
              "      <td>0.542460</td>\n",
              "      <td>0.352612</td>\n",
              "    </tr>\n",
              "    <tr>\n",
              "      <th>1</th>\n",
              "      <td>India</td>\n",
              "      <td>340</td>\n",
              "      <td>6.0</td>\n",
              "      <td>50.0</td>\n",
              "      <td>6.80</td>\n",
              "      <td>1</td>\n",
              "      <td>won</td>\n",
              "      <td>v Australia</td>\n",
              "      <td>Rajkot</td>\n",
              "      <td>2020-01-17</td>\n",
              "      <td>36 runs</td>\n",
              "      <td>0.0</td>\n",
              "      <td>lost</td>\n",
              "      <td>1st</td>\n",
              "      <td>2</td>\n",
              "      <td>1</td>\n",
              "      <td>17</td>\n",
              "      <td>1</td>\n",
              "      <td>2020</td>\n",
              "      <td>-0.552586</td>\n",
              "      <td>0.690675</td>\n",
              "      <td>1.307029</td>\n",
              "      <td>0.984400</td>\n",
              "    </tr>\n",
              "    <tr>\n",
              "      <th>2</th>\n",
              "      <td>India</td>\n",
              "      <td>255</td>\n",
              "      <td>0.0</td>\n",
              "      <td>49.1</td>\n",
              "      <td>5.18</td>\n",
              "      <td>1</td>\n",
              "      <td>lost</td>\n",
              "      <td>v Australia</td>\n",
              "      <td>Mumbai</td>\n",
              "      <td>2020-01-14</td>\n",
              "      <td>10 wickets</td>\n",
              "      <td>74.0</td>\n",
              "      <td>lost</td>\n",
              "      <td>1st</td>\n",
              "      <td>2</td>\n",
              "      <td>0</td>\n",
              "      <td>14</td>\n",
              "      <td>1</td>\n",
              "      <td>2020</td>\n",
              "      <td>0.994806</td>\n",
              "      <td>0.577839</td>\n",
              "      <td>0.032748</td>\n",
              "      <td>-0.437124</td>\n",
              "    </tr>\n",
              "    <tr>\n",
              "      <th>3</th>\n",
              "      <td>India</td>\n",
              "      <td>352</td>\n",
              "      <td>5.0</td>\n",
              "      <td>50.0</td>\n",
              "      <td>7.04</td>\n",
              "      <td>1</td>\n",
              "      <td>won</td>\n",
              "      <td>v Australia</td>\n",
              "      <td>The Oval</td>\n",
              "      <td>2019-06-09</td>\n",
              "      <td>36 runs</td>\n",
              "      <td>0.0</td>\n",
              "      <td>won</td>\n",
              "      <td>1st</td>\n",
              "      <td>2</td>\n",
              "      <td>1</td>\n",
              "      <td>9</td>\n",
              "      <td>6</td>\n",
              "      <td>2019</td>\n",
              "      <td>-0.552586</td>\n",
              "      <td>0.690675</td>\n",
              "      <td>1.486928</td>\n",
              "      <td>1.194996</td>\n",
              "    </tr>\n",
              "    <tr>\n",
              "      <th>4</th>\n",
              "      <td>India</td>\n",
              "      <td>237</td>\n",
              "      <td>0.0</td>\n",
              "      <td>50.0</td>\n",
              "      <td>4.74</td>\n",
              "      <td>2</td>\n",
              "      <td>lost</td>\n",
              "      <td>v Australia</td>\n",
              "      <td>Delhi</td>\n",
              "      <td>2019-03-13</td>\n",
              "      <td>35 runs</td>\n",
              "      <td>0.0</td>\n",
              "      <td>lost</td>\n",
              "      <td>2nd</td>\n",
              "      <td>2</td>\n",
              "      <td>0</td>\n",
              "      <td>13</td>\n",
              "      <td>3</td>\n",
              "      <td>2019</td>\n",
              "      <td>-0.552586</td>\n",
              "      <td>0.690675</td>\n",
              "      <td>-0.237100</td>\n",
              "      <td>-0.823216</td>\n",
              "    </tr>\n",
              "  </tbody>\n",
              "</table>\n",
              "</div>"
            ],
            "text/plain": [
              "    Team  Match Score  ...  normalized_match_score  normalized_RPO\n",
              "0  India          289  ...                0.542460        0.352612\n",
              "1  India          340  ...                1.307029        0.984400\n",
              "2  India          255  ...                0.032748       -0.437124\n",
              "3  India          352  ...                1.486928        1.194996\n",
              "4  India          237  ...               -0.237100       -0.823216\n",
              "\n",
              "[5 rows x 23 columns]"
            ]
          },
          "metadata": {
            "tags": []
          },
          "execution_count": 19
        }
      ]
    },
    {
      "cell_type": "code",
      "metadata": {
        "id": "fIOor1nMX4Hm",
        "colab_type": "code",
        "outputId": "0eb6003b-e241-48ba-a64f-242e76b1105d",
        "colab": {
          "base_uri": "https://localhost:8080/",
          "height": 297
        }
      },
      "source": [
        "sns.distplot(cric_df['normalized_match_score'])"
      ],
      "execution_count": 20,
      "outputs": [
        {
          "output_type": "execute_result",
          "data": {
            "text/plain": [
              "<matplotlib.axes._subplots.AxesSubplot at 0x7f46f2c5a780>"
            ]
          },
          "metadata": {
            "tags": []
          },
          "execution_count": 20
        },
        {
          "output_type": "display_data",
          "data": {
            "image/png": "[encoded data removed]",
            "text/plain": [
              "<Figure size 432x288 with 1 Axes>"
            ]
          },
          "metadata": {
            "tags": []
          }
        }
      ]
    },
    {
      "cell_type": "code",
      "metadata": {
        "id": "3a01mMFIX-OS",
        "colab_type": "code",
        "outputId": "e9ecbfbf-9fc7-4ce5-a3a4-4717bf7e0b29",
        "colab": {
          "base_uri": "https://localhost:8080/",
          "height": 297
        }
      },
      "source": [
        "sns.distplot(cric_df['normalized_RPO'])"
      ],
      "execution_count": 21,
      "outputs": [
        {
          "output_type": "execute_result",
          "data": {
            "text/plain": [
              "<matplotlib.axes._subplots.AxesSubplot at 0x7f46f0e6c198>"
            ]
          },
          "metadata": {
            "tags": []
          },
          "execution_count": 21
        },
        {
          "output_type": "display_data",
          "data": {
            "image/png": "[encoded data removed]",
            "text/plain": [
              "<Figure size 432x288 with 1 Axes>"
            ]
          },
          "metadata": {
            "tags": []
          }
        }
      ]
    },
    {
      "cell_type": "code",
      "metadata": {
        "id": "WdDBJqFwYEeu",
        "colab_type": "code",
        "outputId": "436ff191-a4d8-483d-9c7d-59aec0bc3331",
        "colab": {
          "base_uri": "https://localhost:8080/",
          "height": 219
        }
      },
      "source": [
        "print(cric_df['normalized_RPO'].quantile([0, 0.05, 0.1, 0.25, 0.5, 0.75,0.90, 0.95, 0.99, 0.995, 1]))"
      ],
      "execution_count": 22,
      "outputs": [
        {
          "output_type": "stream",
          "text": [
            "0.000   -2.613283\n",
            "0.050   -1.447107\n",
            "0.100   -1.192637\n",
            "0.250   -0.691594\n",
            "0.500   -0.051031\n",
            "0.750    0.563208\n",
            "0.900    1.249400\n",
            "0.950    1.708762\n",
            "0.990    2.749019\n",
            "0.995    3.213340\n",
            "1.000    7.442679\n",
            "Name: normalized_RPO, dtype: float64\n"
          ],
          "name": "stdout"
        }
      ]
    },
    {
      "cell_type": "code",
      "metadata": {
        "id": "Zp4V4Q6LY_ZO",
        "colab_type": "code",
        "outputId": "bf1d2ef9-f25b-40c4-8117-fe2f8d9c752e",
        "colab": {
          "base_uri": "https://localhost:8080/",
          "height": 297
        }
      },
      "source": [
        "cric_df['normalized_RPO'] = np.where(cric_df['normalized_RPO'] > 3.30, 3.30, cric_df['normalized_RPO']) # Capping\n",
        "sns.distplot(cric_df['normalized_RPO'])"
      ],
      "execution_count": 23,
      "outputs": [
        {
          "output_type": "execute_result",
          "data": {
            "text/plain": [
              "<matplotlib.axes._subplots.AxesSubplot at 0x7f46f0dadb38>"
            ]
          },
          "metadata": {
            "tags": []
          },
          "execution_count": 23
        },
        {
          "output_type": "display_data",
          "data": {
            "image/png": "[encoded data removed]",
            "text/plain": [
              "<Figure size 432x288 with 1 Axes>"
            ]
          },
          "metadata": {
            "tags": []
          }
        }
      ]
    },
    {
      "cell_type": "code",
      "metadata": {
        "id": "8KK07I6aaB9x",
        "colab_type": "code",
        "outputId": "ad0f3621-1cc4-4568-c159-0fdbfc3e7944",
        "colab": {
          "base_uri": "https://localhost:8080/",
          "height": 317
        }
      },
      "source": [
        "from sklearn.preprocessing import MinMaxScaler\n",
        "scaler = MinMaxScaler()\n",
        "scaler.fit(cric_df[['Wickets']])\n",
        "cric_df['normalized_wickets'] = scaler.transform(cric_df[['Wickets']])\n",
        "cric_df.head()"
      ],
      "execution_count": 24,
      "outputs": [
        {
          "output_type": "execute_result",
          "data": {
            "text/html": [
              "<div>\n",
              "<style scoped>\n",
              "    .dataframe tbody tr th:only-of-type {\n",
              "        vertical-align: middle;\n",
              "    }\n",
              "\n",
              "    .dataframe tbody tr th {\n",
              "        vertical-align: top;\n",
              "    }\n",
              "\n",
              "    .dataframe thead th {\n",
              "        text-align: right;\n",
              "    }\n",
              "</style>\n",
              "<table border=\"1\" class=\"dataframe\">\n",
              "  <thead>\n",
              "    <tr style=\"text-align: right;\">\n",
              "      <th></th>\n",
              "      <th>Team</th>\n",
              "      <th>Match Score</th>\n",
              "      <th>Wickets</th>\n",
              "      <th>Overs</th>\n",
              "      <th>RPO</th>\n",
              "      <th>Inns</th>\n",
              "      <th>Result</th>\n",
              "      <th>Opposition</th>\n",
              "      <th>Ground</th>\n",
              "      <th>Start Date</th>\n",
              "      <th>Margin</th>\n",
              "      <th>BR</th>\n",
              "      <th>Toss</th>\n",
              "      <th>Bat</th>\n",
              "      <th>Rank</th>\n",
              "      <th>outcome</th>\n",
              "      <th>day</th>\n",
              "      <th>month</th>\n",
              "      <th>year</th>\n",
              "      <th>normalized_BR</th>\n",
              "      <th>normalized_overs</th>\n",
              "      <th>normalized_match_score</th>\n",
              "      <th>normalized_RPO</th>\n",
              "      <th>normalized_wickets</th>\n",
              "    </tr>\n",
              "  </thead>\n",
              "  <tbody>\n",
              "    <tr>\n",
              "      <th>0</th>\n",
              "      <td>India</td>\n",
              "      <td>289</td>\n",
              "      <td>3.0</td>\n",
              "      <td>47.3</td>\n",
              "      <td>6.08</td>\n",
              "      <td>2</td>\n",
              "      <td>won</td>\n",
              "      <td>v Australia</td>\n",
              "      <td>Bengaluru</td>\n",
              "      <td>2020-01-19</td>\n",
              "      <td>7 wickets</td>\n",
              "      <td>15.0</td>\n",
              "      <td>lost</td>\n",
              "      <td>2nd</td>\n",
              "      <td>2</td>\n",
              "      <td>1</td>\n",
              "      <td>19</td>\n",
              "      <td>1</td>\n",
              "      <td>2020</td>\n",
              "      <td>-0.238925</td>\n",
              "      <td>0.352168</td>\n",
              "      <td>0.542460</td>\n",
              "      <td>0.352612</td>\n",
              "      <td>0.333333</td>\n",
              "    </tr>\n",
              "    <tr>\n",
              "      <th>1</th>\n",
              "      <td>India</td>\n",
              "      <td>340</td>\n",
              "      <td>6.0</td>\n",
              "      <td>50.0</td>\n",
              "      <td>6.80</td>\n",
              "      <td>1</td>\n",
              "      <td>won</td>\n",
              "      <td>v Australia</td>\n",
              "      <td>Rajkot</td>\n",
              "      <td>2020-01-17</td>\n",
              "      <td>36 runs</td>\n",
              "      <td>0.0</td>\n",
              "      <td>lost</td>\n",
              "      <td>1st</td>\n",
              "      <td>2</td>\n",
              "      <td>1</td>\n",
              "      <td>17</td>\n",
              "      <td>1</td>\n",
              "      <td>2020</td>\n",
              "      <td>-0.552586</td>\n",
              "      <td>0.690675</td>\n",
              "      <td>1.307029</td>\n",
              "      <td>0.984400</td>\n",
              "      <td>0.666667</td>\n",
              "    </tr>\n",
              "    <tr>\n",
              "      <th>2</th>\n",
              "      <td>India</td>\n",
              "      <td>255</td>\n",
              "      <td>0.0</td>\n",
              "      <td>49.1</td>\n",
              "      <td>5.18</td>\n",
              "      <td>1</td>\n",
              "      <td>lost</td>\n",
              "      <td>v Australia</td>\n",
              "      <td>Mumbai</td>\n",
              "      <td>2020-01-14</td>\n",
              "      <td>10 wickets</td>\n",
              "      <td>74.0</td>\n",
              "      <td>lost</td>\n",
              "      <td>1st</td>\n",
              "      <td>2</td>\n",
              "      <td>0</td>\n",
              "      <td>14</td>\n",
              "      <td>1</td>\n",
              "      <td>2020</td>\n",
              "      <td>0.994806</td>\n",
              "      <td>0.577839</td>\n",
              "      <td>0.032748</td>\n",
              "      <td>-0.437124</td>\n",
              "      <td>0.000000</td>\n",
              "    </tr>\n",
              "    <tr>\n",
              "      <th>3</th>\n",
              "      <td>India</td>\n",
              "      <td>352</td>\n",
              "      <td>5.0</td>\n",
              "      <td>50.0</td>\n",
              "      <td>7.04</td>\n",
              "      <td>1</td>\n",
              "      <td>won</td>\n",
              "      <td>v Australia</td>\n",
              "      <td>The Oval</td>\n",
              "      <td>2019-06-09</td>\n",
              "      <td>36 runs</td>\n",
              "      <td>0.0</td>\n",
              "      <td>won</td>\n",
              "      <td>1st</td>\n",
              "      <td>2</td>\n",
              "      <td>1</td>\n",
              "      <td>9</td>\n",
              "      <td>6</td>\n",
              "      <td>2019</td>\n",
              "      <td>-0.552586</td>\n",
              "      <td>0.690675</td>\n",
              "      <td>1.486928</td>\n",
              "      <td>1.194996</td>\n",
              "      <td>0.555556</td>\n",
              "    </tr>\n",
              "    <tr>\n",
              "      <th>4</th>\n",
              "      <td>India</td>\n",
              "      <td>237</td>\n",
              "      <td>0.0</td>\n",
              "      <td>50.0</td>\n",
              "      <td>4.74</td>\n",
              "      <td>2</td>\n",
              "      <td>lost</td>\n",
              "      <td>v Australia</td>\n",
              "      <td>Delhi</td>\n",
              "      <td>2019-03-13</td>\n",
              "      <td>35 runs</td>\n",
              "      <td>0.0</td>\n",
              "      <td>lost</td>\n",
              "      <td>2nd</td>\n",
              "      <td>2</td>\n",
              "      <td>0</td>\n",
              "      <td>13</td>\n",
              "      <td>3</td>\n",
              "      <td>2019</td>\n",
              "      <td>-0.552586</td>\n",
              "      <td>0.690675</td>\n",
              "      <td>-0.237100</td>\n",
              "      <td>-0.823216</td>\n",
              "      <td>0.000000</td>\n",
              "    </tr>\n",
              "  </tbody>\n",
              "</table>\n",
              "</div>"
            ],
            "text/plain": [
              "    Team  Match Score  ...  normalized_RPO  normalized_wickets\n",
              "0  India          289  ...        0.352612            0.333333\n",
              "1  India          340  ...        0.984400            0.666667\n",
              "2  India          255  ...       -0.437124            0.000000\n",
              "3  India          352  ...        1.194996            0.555556\n",
              "4  India          237  ...       -0.823216            0.000000\n",
              "\n",
              "[5 rows x 24 columns]"
            ]
          },
          "metadata": {
            "tags": []
          },
          "execution_count": 24
        }
      ]
    },
    {
      "cell_type": "code",
      "metadata": {
        "id": "lKIn62h5e9cH",
        "colab_type": "code",
        "outputId": "bdea27dc-5b2c-49f1-fa33-e2def79c0967",
        "colab": {
          "base_uri": "https://localhost:8080/",
          "height": 297
        }
      },
      "source": [
        "sns.distplot(cric_df['normalized_wickets'])"
      ],
      "execution_count": 25,
      "outputs": [
        {
          "output_type": "execute_result",
          "data": {
            "text/plain": [
              "<matplotlib.axes._subplots.AxesSubplot at 0x7f46f0dad630>"
            ]
          },
          "metadata": {
            "tags": []
          },
          "execution_count": 25
        },
        {
          "output_type": "display_data",
          "data": {
            "image/png": "[encoded data removed]",
            "text/plain": [
              "<Figure size 432x288 with 1 Axes>"
            ]
          },
          "metadata": {
            "tags": []
          }
        }
      ]
    },
    {
      "cell_type": "markdown",
      "metadata": {
        "id": "-xY15r0ZfNpB",
        "colab_type": "text"
      },
      "source": [
        "Try using original wicket feature for the model as there is no change in the distribution"
      ]
    },
    {
      "cell_type": "code",
      "metadata": {
        "id": "dG3zG-6VfFQz",
        "colab_type": "code",
        "colab": {}
      },
      "source": [
        "cric_df.to_excel(\"cric_df2.xlsx\")"
      ],
      "execution_count": 0,
      "outputs": []
    },
    {
      "cell_type": "markdown",
      "metadata": {
        "id": "Rjj9pHE-kgsh",
        "colab_type": "text"
      },
      "source": [
        "### Toss and Bat Encoding "
      ]
    },
    {
      "cell_type": "code",
      "metadata": {
        "id": "WlOHtURnfuXl",
        "colab_type": "code",
        "outputId": "10816310-139a-460d-e240-bd3b198206a7",
        "colab": {
          "base_uri": "https://localhost:8080/",
          "height": 317
        }
      },
      "source": [
        "cric_df = cric_df.assign(Toss_Outcome=(cric_df['Toss'] == 'won').astype(int))\n",
        "cric_df = cric_df.assign(Bat_Inning=(cric_df['Bat'] == '1st').astype(int))\n",
        "cric_df.head()"
      ],
      "execution_count": 27,
      "outputs": [
        {
          "output_type": "execute_result",
          "data": {
            "text/html": [
              "<div>\n",
              "<style scoped>\n",
              "    .dataframe tbody tr th:only-of-type {\n",
              "        vertical-align: middle;\n",
              "    }\n",
              "\n",
              "    .dataframe tbody tr th {\n",
              "        vertical-align: top;\n",
              "    }\n",
              "\n",
              "    .dataframe thead th {\n",
              "        text-align: right;\n",
              "    }\n",
              "</style>\n",
              "<table border=\"1\" class=\"dataframe\">\n",
              "  <thead>\n",
              "    <tr style=\"text-align: right;\">\n",
              "      <th></th>\n",
              "      <th>Team</th>\n",
              "      <th>Match Score</th>\n",
              "      <th>Wickets</th>\n",
              "      <th>Overs</th>\n",
              "      <th>RPO</th>\n",
              "      <th>Inns</th>\n",
              "      <th>Result</th>\n",
              "      <th>Opposition</th>\n",
              "      <th>Ground</th>\n",
              "      <th>Start Date</th>\n",
              "      <th>Margin</th>\n",
              "      <th>BR</th>\n",
              "      <th>Toss</th>\n",
              "      <th>Bat</th>\n",
              "      <th>Rank</th>\n",
              "      <th>outcome</th>\n",
              "      <th>day</th>\n",
              "      <th>month</th>\n",
              "      <th>year</th>\n",
              "      <th>normalized_BR</th>\n",
              "      <th>normalized_overs</th>\n",
              "      <th>normalized_match_score</th>\n",
              "      <th>normalized_RPO</th>\n",
              "      <th>normalized_wickets</th>\n",
              "      <th>Toss_Outcome</th>\n",
              "      <th>Bat_Inning</th>\n",
              "    </tr>\n",
              "  </thead>\n",
              "  <tbody>\n",
              "    <tr>\n",
              "      <th>0</th>\n",
              "      <td>India</td>\n",
              "      <td>289</td>\n",
              "      <td>3.0</td>\n",
              "      <td>47.3</td>\n",
              "      <td>6.08</td>\n",
              "      <td>2</td>\n",
              "      <td>won</td>\n",
              "      <td>v Australia</td>\n",
              "      <td>Bengaluru</td>\n",
              "      <td>2020-01-19</td>\n",
              "      <td>7 wickets</td>\n",
              "      <td>15.0</td>\n",
              "      <td>lost</td>\n",
              "      <td>2nd</td>\n",
              "      <td>2</td>\n",
              "      <td>1</td>\n",
              "      <td>19</td>\n",
              "      <td>1</td>\n",
              "      <td>2020</td>\n",
              "      <td>-0.238925</td>\n",
              "      <td>0.352168</td>\n",
              "      <td>0.542460</td>\n",
              "      <td>0.352612</td>\n",
              "      <td>0.333333</td>\n",
              "      <td>0</td>\n",
              "      <td>0</td>\n",
              "    </tr>\n",
              "    <tr>\n",
              "      <th>1</th>\n",
              "      <td>India</td>\n",
              "      <td>340</td>\n",
              "      <td>6.0</td>\n",
              "      <td>50.0</td>\n",
              "      <td>6.80</td>\n",
              "      <td>1</td>\n",
              "      <td>won</td>\n",
              "      <td>v Australia</td>\n",
              "      <td>Rajkot</td>\n",
              "      <td>2020-01-17</td>\n",
              "      <td>36 runs</td>\n",
              "      <td>0.0</td>\n",
              "      <td>lost</td>\n",
              "      <td>1st</td>\n",
              "      <td>2</td>\n",
              "      <td>1</td>\n",
              "      <td>17</td>\n",
              "      <td>1</td>\n",
              "      <td>2020</td>\n",
              "      <td>-0.552586</td>\n",
              "      <td>0.690675</td>\n",
              "      <td>1.307029</td>\n",
              "      <td>0.984400</td>\n",
              "      <td>0.666667</td>\n",
              "      <td>0</td>\n",
              "      <td>1</td>\n",
              "    </tr>\n",
              "    <tr>\n",
              "      <th>2</th>\n",
              "      <td>India</td>\n",
              "      <td>255</td>\n",
              "      <td>0.0</td>\n",
              "      <td>49.1</td>\n",
              "      <td>5.18</td>\n",
              "      <td>1</td>\n",
              "      <td>lost</td>\n",
              "      <td>v Australia</td>\n",
              "      <td>Mumbai</td>\n",
              "      <td>2020-01-14</td>\n",
              "      <td>10 wickets</td>\n",
              "      <td>74.0</td>\n",
              "      <td>lost</td>\n",
              "      <td>1st</td>\n",
              "      <td>2</td>\n",
              "      <td>0</td>\n",
              "      <td>14</td>\n",
              "      <td>1</td>\n",
              "      <td>2020</td>\n",
              "      <td>0.994806</td>\n",
              "      <td>0.577839</td>\n",
              "      <td>0.032748</td>\n",
              "      <td>-0.437124</td>\n",
              "      <td>0.000000</td>\n",
              "      <td>0</td>\n",
              "      <td>1</td>\n",
              "    </tr>\n",
              "    <tr>\n",
              "      <th>3</th>\n",
              "      <td>India</td>\n",
              "      <td>352</td>\n",
              "      <td>5.0</td>\n",
              "      <td>50.0</td>\n",
              "      <td>7.04</td>\n",
              "      <td>1</td>\n",
              "      <td>won</td>\n",
              "      <td>v Australia</td>\n",
              "      <td>The Oval</td>\n",
              "      <td>2019-06-09</td>\n",
              "      <td>36 runs</td>\n",
              "      <td>0.0</td>\n",
              "      <td>won</td>\n",
              "      <td>1st</td>\n",
              "      <td>2</td>\n",
              "      <td>1</td>\n",
              "      <td>9</td>\n",
              "      <td>6</td>\n",
              "      <td>2019</td>\n",
              "      <td>-0.552586</td>\n",
              "      <td>0.690675</td>\n",
              "      <td>1.486928</td>\n",
              "      <td>1.194996</td>\n",
              "      <td>0.555556</td>\n",
              "      <td>1</td>\n",
              "      <td>1</td>\n",
              "    </tr>\n",
              "    <tr>\n",
              "      <th>4</th>\n",
              "      <td>India</td>\n",
              "      <td>237</td>\n",
              "      <td>0.0</td>\n",
              "      <td>50.0</td>\n",
              "      <td>4.74</td>\n",
              "      <td>2</td>\n",
              "      <td>lost</td>\n",
              "      <td>v Australia</td>\n",
              "      <td>Delhi</td>\n",
              "      <td>2019-03-13</td>\n",
              "      <td>35 runs</td>\n",
              "      <td>0.0</td>\n",
              "      <td>lost</td>\n",
              "      <td>2nd</td>\n",
              "      <td>2</td>\n",
              "      <td>0</td>\n",
              "      <td>13</td>\n",
              "      <td>3</td>\n",
              "      <td>2019</td>\n",
              "      <td>-0.552586</td>\n",
              "      <td>0.690675</td>\n",
              "      <td>-0.237100</td>\n",
              "      <td>-0.823216</td>\n",
              "      <td>0.000000</td>\n",
              "      <td>0</td>\n",
              "      <td>0</td>\n",
              "    </tr>\n",
              "  </tbody>\n",
              "</table>\n",
              "</div>"
            ],
            "text/plain": [
              "    Team  Match Score  Wickets  ...  normalized_wickets  Toss_Outcome  Bat_Inning\n",
              "0  India          289      3.0  ...            0.333333             0           0\n",
              "1  India          340      6.0  ...            0.666667             0           1\n",
              "2  India          255      0.0  ...            0.000000             0           1\n",
              "3  India          352      5.0  ...            0.555556             1           1\n",
              "4  India          237      0.0  ...            0.000000             0           0\n",
              "\n",
              "[5 rows x 26 columns]"
            ]
          },
          "metadata": {
            "tags": []
          },
          "execution_count": 27
        }
      ]
    },
    {
      "cell_type": "code",
      "metadata": {
        "id": "uHwWcbUck4g6",
        "colab_type": "code",
        "outputId": "a313addc-1cdc-42a2-e4ac-bef3a6e2f1eb",
        "colab": {
          "base_uri": "https://localhost:8080/",
          "height": 216
        }
      },
      "source": [
        "cric_df2 = cric_df.drop(columns = ['Match Score', 'BR', 'Overs', 'RPO', 'Result', 'Margin', 'Toss', 'Bat', 'Start Date'], axis = 1)\n",
        "cric_df2.head()"
      ],
      "execution_count": 28,
      "outputs": [
        {
          "output_type": "execute_result",
          "data": {
            "text/html": [
              "<div>\n",
              "<style scoped>\n",
              "    .dataframe tbody tr th:only-of-type {\n",
              "        vertical-align: middle;\n",
              "    }\n",
              "\n",
              "    .dataframe tbody tr th {\n",
              "        vertical-align: top;\n",
              "    }\n",
              "\n",
              "    .dataframe thead th {\n",
              "        text-align: right;\n",
              "    }\n",
              "</style>\n",
              "<table border=\"1\" class=\"dataframe\">\n",
              "  <thead>\n",
              "    <tr style=\"text-align: right;\">\n",
              "      <th></th>\n",
              "      <th>Team</th>\n",
              "      <th>Wickets</th>\n",
              "      <th>Inns</th>\n",
              "      <th>Opposition</th>\n",
              "      <th>Ground</th>\n",
              "      <th>Rank</th>\n",
              "      <th>outcome</th>\n",
              "      <th>day</th>\n",
              "      <th>month</th>\n",
              "      <th>year</th>\n",
              "      <th>normalized_BR</th>\n",
              "      <th>normalized_overs</th>\n",
              "      <th>normalized_match_score</th>\n",
              "      <th>normalized_RPO</th>\n",
              "      <th>normalized_wickets</th>\n",
              "      <th>Toss_Outcome</th>\n",
              "      <th>Bat_Inning</th>\n",
              "    </tr>\n",
              "  </thead>\n",
              "  <tbody>\n",
              "    <tr>\n",
              "      <th>0</th>\n",
              "      <td>India</td>\n",
              "      <td>3.0</td>\n",
              "      <td>2</td>\n",
              "      <td>v Australia</td>\n",
              "      <td>Bengaluru</td>\n",
              "      <td>2</td>\n",
              "      <td>1</td>\n",
              "      <td>19</td>\n",
              "      <td>1</td>\n",
              "      <td>2020</td>\n",
              "      <td>-0.238925</td>\n",
              "      <td>0.352168</td>\n",
              "      <td>0.542460</td>\n",
              "      <td>0.352612</td>\n",
              "      <td>0.333333</td>\n",
              "      <td>0</td>\n",
              "      <td>0</td>\n",
              "    </tr>\n",
              "    <tr>\n",
              "      <th>1</th>\n",
              "      <td>India</td>\n",
              "      <td>6.0</td>\n",
              "      <td>1</td>\n",
              "      <td>v Australia</td>\n",
              "      <td>Rajkot</td>\n",
              "      <td>2</td>\n",
              "      <td>1</td>\n",
              "      <td>17</td>\n",
              "      <td>1</td>\n",
              "      <td>2020</td>\n",
              "      <td>-0.552586</td>\n",
              "      <td>0.690675</td>\n",
              "      <td>1.307029</td>\n",
              "      <td>0.984400</td>\n",
              "      <td>0.666667</td>\n",
              "      <td>0</td>\n",
              "      <td>1</td>\n",
              "    </tr>\n",
              "    <tr>\n",
              "      <th>2</th>\n",
              "      <td>India</td>\n",
              "      <td>0.0</td>\n",
              "      <td>1</td>\n",
              "      <td>v Australia</td>\n",
              "      <td>Mumbai</td>\n",
              "      <td>2</td>\n",
              "      <td>0</td>\n",
              "      <td>14</td>\n",
              "      <td>1</td>\n",
              "      <td>2020</td>\n",
              "      <td>0.994806</td>\n",
              "      <td>0.577839</td>\n",
              "      <td>0.032748</td>\n",
              "      <td>-0.437124</td>\n",
              "      <td>0.000000</td>\n",
              "      <td>0</td>\n",
              "      <td>1</td>\n",
              "    </tr>\n",
              "    <tr>\n",
              "      <th>3</th>\n",
              "      <td>India</td>\n",
              "      <td>5.0</td>\n",
              "      <td>1</td>\n",
              "      <td>v Australia</td>\n",
              "      <td>The Oval</td>\n",
              "      <td>2</td>\n",
              "      <td>1</td>\n",
              "      <td>9</td>\n",
              "      <td>6</td>\n",
              "      <td>2019</td>\n",
              "      <td>-0.552586</td>\n",
              "      <td>0.690675</td>\n",
              "      <td>1.486928</td>\n",
              "      <td>1.194996</td>\n",
              "      <td>0.555556</td>\n",
              "      <td>1</td>\n",
              "      <td>1</td>\n",
              "    </tr>\n",
              "    <tr>\n",
              "      <th>4</th>\n",
              "      <td>India</td>\n",
              "      <td>0.0</td>\n",
              "      <td>2</td>\n",
              "      <td>v Australia</td>\n",
              "      <td>Delhi</td>\n",
              "      <td>2</td>\n",
              "      <td>0</td>\n",
              "      <td>13</td>\n",
              "      <td>3</td>\n",
              "      <td>2019</td>\n",
              "      <td>-0.552586</td>\n",
              "      <td>0.690675</td>\n",
              "      <td>-0.237100</td>\n",
              "      <td>-0.823216</td>\n",
              "      <td>0.000000</td>\n",
              "      <td>0</td>\n",
              "      <td>0</td>\n",
              "    </tr>\n",
              "  </tbody>\n",
              "</table>\n",
              "</div>"
            ],
            "text/plain": [
              "    Team  Wickets  Inns  ... normalized_wickets Toss_Outcome  Bat_Inning\n",
              "0  India      3.0     2  ...           0.333333            0           0\n",
              "1  India      6.0     1  ...           0.666667            0           1\n",
              "2  India      0.0     1  ...           0.000000            0           1\n",
              "3  India      5.0     1  ...           0.555556            1           1\n",
              "4  India      0.0     2  ...           0.000000            0           0\n",
              "\n",
              "[5 rows x 17 columns]"
            ]
          },
          "metadata": {
            "tags": []
          },
          "execution_count": 28
        }
      ]
    },
    {
      "cell_type": "code",
      "metadata": {
        "id": "ThnI4PsWTSfF",
        "colab_type": "code",
        "outputId": "0d824418-4186-41a4-af27-3d10d0f5ba96",
        "colab": {
          "base_uri": "https://localhost:8080/",
          "height": 213
        }
      },
      "source": [
        "cric_df3 = cric_df.drop(columns = ['normalized_BR', 'normalized_overs', 'normalized_match_score', 'normalized_RPO', 'Result', 'normalized_wickets', 'Margin', 'Toss', 'Bat'], axis = 1)\n",
        "cric_df3.head()"
      ],
      "execution_count": 29,
      "outputs": [
        {
          "output_type": "execute_result",
          "data": {
            "text/html": [
              "<div>\n",
              "<style scoped>\n",
              "    .dataframe tbody tr th:only-of-type {\n",
              "        vertical-align: middle;\n",
              "    }\n",
              "\n",
              "    .dataframe tbody tr th {\n",
              "        vertical-align: top;\n",
              "    }\n",
              "\n",
              "    .dataframe thead th {\n",
              "        text-align: right;\n",
              "    }\n",
              "</style>\n",
              "<table border=\"1\" class=\"dataframe\">\n",
              "  <thead>\n",
              "    <tr style=\"text-align: right;\">\n",
              "      <th></th>\n",
              "      <th>Team</th>\n",
              "      <th>Match Score</th>\n",
              "      <th>Wickets</th>\n",
              "      <th>Overs</th>\n",
              "      <th>RPO</th>\n",
              "      <th>Inns</th>\n",
              "      <th>Opposition</th>\n",
              "      <th>Ground</th>\n",
              "      <th>Start Date</th>\n",
              "      <th>BR</th>\n",
              "      <th>Rank</th>\n",
              "      <th>outcome</th>\n",
              "      <th>day</th>\n",
              "      <th>month</th>\n",
              "      <th>year</th>\n",
              "      <th>Toss_Outcome</th>\n",
              "      <th>Bat_Inning</th>\n",
              "    </tr>\n",
              "  </thead>\n",
              "  <tbody>\n",
              "    <tr>\n",
              "      <th>0</th>\n",
              "      <td>India</td>\n",
              "      <td>289</td>\n",
              "      <td>3.0</td>\n",
              "      <td>47.3</td>\n",
              "      <td>6.08</td>\n",
              "      <td>2</td>\n",
              "      <td>v Australia</td>\n",
              "      <td>Bengaluru</td>\n",
              "      <td>2020-01-19</td>\n",
              "      <td>15.0</td>\n",
              "      <td>2</td>\n",
              "      <td>1</td>\n",
              "      <td>19</td>\n",
              "      <td>1</td>\n",
              "      <td>2020</td>\n",
              "      <td>0</td>\n",
              "      <td>0</td>\n",
              "    </tr>\n",
              "    <tr>\n",
              "      <th>1</th>\n",
              "      <td>India</td>\n",
              "      <td>340</td>\n",
              "      <td>6.0</td>\n",
              "      <td>50.0</td>\n",
              "      <td>6.80</td>\n",
              "      <td>1</td>\n",
              "      <td>v Australia</td>\n",
              "      <td>Rajkot</td>\n",
              "      <td>2020-01-17</td>\n",
              "      <td>0.0</td>\n",
              "      <td>2</td>\n",
              "      <td>1</td>\n",
              "      <td>17</td>\n",
              "      <td>1</td>\n",
              "      <td>2020</td>\n",
              "      <td>0</td>\n",
              "      <td>1</td>\n",
              "    </tr>\n",
              "    <tr>\n",
              "      <th>2</th>\n",
              "      <td>India</td>\n",
              "      <td>255</td>\n",
              "      <td>0.0</td>\n",
              "      <td>49.1</td>\n",
              "      <td>5.18</td>\n",
              "      <td>1</td>\n",
              "      <td>v Australia</td>\n",
              "      <td>Mumbai</td>\n",
              "      <td>2020-01-14</td>\n",
              "      <td>74.0</td>\n",
              "      <td>2</td>\n",
              "      <td>0</td>\n",
              "      <td>14</td>\n",
              "      <td>1</td>\n",
              "      <td>2020</td>\n",
              "      <td>0</td>\n",
              "      <td>1</td>\n",
              "    </tr>\n",
              "    <tr>\n",
              "      <th>3</th>\n",
              "      <td>India</td>\n",
              "      <td>352</td>\n",
              "      <td>5.0</td>\n",
              "      <td>50.0</td>\n",
              "      <td>7.04</td>\n",
              "      <td>1</td>\n",
              "      <td>v Australia</td>\n",
              "      <td>The Oval</td>\n",
              "      <td>2019-06-09</td>\n",
              "      <td>0.0</td>\n",
              "      <td>2</td>\n",
              "      <td>1</td>\n",
              "      <td>9</td>\n",
              "      <td>6</td>\n",
              "      <td>2019</td>\n",
              "      <td>1</td>\n",
              "      <td>1</td>\n",
              "    </tr>\n",
              "    <tr>\n",
              "      <th>4</th>\n",
              "      <td>India</td>\n",
              "      <td>237</td>\n",
              "      <td>0.0</td>\n",
              "      <td>50.0</td>\n",
              "      <td>4.74</td>\n",
              "      <td>2</td>\n",
              "      <td>v Australia</td>\n",
              "      <td>Delhi</td>\n",
              "      <td>2019-03-13</td>\n",
              "      <td>0.0</td>\n",
              "      <td>2</td>\n",
              "      <td>0</td>\n",
              "      <td>13</td>\n",
              "      <td>3</td>\n",
              "      <td>2019</td>\n",
              "      <td>0</td>\n",
              "      <td>0</td>\n",
              "    </tr>\n",
              "  </tbody>\n",
              "</table>\n",
              "</div>"
            ],
            "text/plain": [
              "    Team  Match Score  Wickets  Overs  ...  month  year Toss_Outcome Bat_Inning\n",
              "0  India          289      3.0   47.3  ...      1  2020            0          0\n",
              "1  India          340      6.0   50.0  ...      1  2020            0          1\n",
              "2  India          255      0.0   49.1  ...      1  2020            0          1\n",
              "3  India          352      5.0   50.0  ...      6  2019            1          1\n",
              "4  India          237      0.0   50.0  ...      3  2019            0          0\n",
              "\n",
              "[5 rows x 17 columns]"
            ]
          },
          "metadata": {
            "tags": []
          },
          "execution_count": 29
        }
      ]
    },
    {
      "cell_type": "code",
      "metadata": {
        "id": "owZgsvHGURJC",
        "colab_type": "code",
        "colab": {}
      },
      "source": [
        "cric_df2.to_excel('cric_df3.xlsx')\n",
        "cric_df3.to_excel('cric_df4.xlsx')"
      ],
      "execution_count": 0,
      "outputs": []
    },
    {
      "cell_type": "markdown",
      "metadata": {
        "id": "Atbl33U8XMyN",
        "colab_type": "text"
      },
      "source": [
        "# Count Encoding"
      ]
    },
    {
      "cell_type": "code",
      "metadata": {
        "id": "G_NQ0Hs4Xwfi",
        "colab_type": "code",
        "colab": {}
      },
      "source": [
        "# Defining  functions that will help us test our encodings\n",
        "import lightgbm as lgb\n",
        "from sklearn import metrics\n",
        "\n",
        "def get_data_splits(dataframe, valid_fraction=0.1):\n",
        "    valid_fraction = 0.1\n",
        "    valid_size = int(len(dataframe) * valid_fraction)\n",
        "\n",
        "    train = dataframe[:-valid_size * 2]\n",
        "    # valid size == test size, last two sections of the data\n",
        "    valid = dataframe[-valid_size * 2:-valid_size]\n",
        "    test = dataframe[-valid_size:]\n",
        "    \n",
        "    return train, valid, test\n",
        "\n",
        "def train_model(train, valid):\n",
        "    feature_cols = train.columns.drop('outcome')\n",
        "\n",
        "    dtrain = lgb.Dataset(train[feature_cols], label=train['outcome'])\n",
        "    dvalid = lgb.Dataset(valid[feature_cols], label=valid['outcome'])\n",
        "\n",
        "    param = {'num_leaves': 64, 'objective': 'binary', \n",
        "             'metric': 'auc', 'seed': 7}\n",
        "    print(\"Training model!\")\n",
        "    bst = lgb.train(param, dtrain, num_boost_round=1000, valid_sets=[dvalid], \n",
        "                    early_stopping_rounds=10, verbose_eval=False)\n",
        "\n",
        "    valid_pred = bst.predict(valid[feature_cols])\n",
        "    valid_score = metrics.roc_auc_score(valid['outcome'], valid_pred)\n",
        "    print(f\"Validation AUC score: {valid_score:.4f}\")\n",
        "    return bst"
      ],
      "execution_count": 0,
      "outputs": []
    },
    {
      "cell_type": "code",
      "metadata": {
        "id": "svu0SvVAYct8",
        "colab_type": "code",
        "outputId": "dbe655ac-e903-4700-d67f-34a96608b88b",
        "colab": {
          "base_uri": "https://localhost:8080/",
          "height": 216
        }
      },
      "source": [
        "cric_df2.head()"
      ],
      "execution_count": 32,
      "outputs": [
        {
          "output_type": "execute_result",
          "data": {
            "text/html": [
              "<div>\n",
              "<style scoped>\n",
              "    .dataframe tbody tr th:only-of-type {\n",
              "        vertical-align: middle;\n",
              "    }\n",
              "\n",
              "    .dataframe tbody tr th {\n",
              "        vertical-align: top;\n",
              "    }\n",
              "\n",
              "    .dataframe thead th {\n",
              "        text-align: right;\n",
              "    }\n",
              "</style>\n",
              "<table border=\"1\" class=\"dataframe\">\n",
              "  <thead>\n",
              "    <tr style=\"text-align: right;\">\n",
              "      <th></th>\n",
              "      <th>Team</th>\n",
              "      <th>Wickets</th>\n",
              "      <th>Inns</th>\n",
              "      <th>Opposition</th>\n",
              "      <th>Ground</th>\n",
              "      <th>Rank</th>\n",
              "      <th>outcome</th>\n",
              "      <th>day</th>\n",
              "      <th>month</th>\n",
              "      <th>year</th>\n",
              "      <th>normalized_BR</th>\n",
              "      <th>normalized_overs</th>\n",
              "      <th>normalized_match_score</th>\n",
              "      <th>normalized_RPO</th>\n",
              "      <th>normalized_wickets</th>\n",
              "      <th>Toss_Outcome</th>\n",
              "      <th>Bat_Inning</th>\n",
              "    </tr>\n",
              "  </thead>\n",
              "  <tbody>\n",
              "    <tr>\n",
              "      <th>0</th>\n",
              "      <td>India</td>\n",
              "      <td>3.0</td>\n",
              "      <td>2</td>\n",
              "      <td>v Australia</td>\n",
              "      <td>Bengaluru</td>\n",
              "      <td>2</td>\n",
              "      <td>1</td>\n",
              "      <td>19</td>\n",
              "      <td>1</td>\n",
              "      <td>2020</td>\n",
              "      <td>-0.238925</td>\n",
              "      <td>0.352168</td>\n",
              "      <td>0.542460</td>\n",
              "      <td>0.352612</td>\n",
              "      <td>0.333333</td>\n",
              "      <td>0</td>\n",
              "      <td>0</td>\n",
              "    </tr>\n",
              "    <tr>\n",
              "      <th>1</th>\n",
              "      <td>India</td>\n",
              "      <td>6.0</td>\n",
              "      <td>1</td>\n",
              "      <td>v Australia</td>\n",
              "      <td>Rajkot</td>\n",
              "      <td>2</td>\n",
              "      <td>1</td>\n",
              "      <td>17</td>\n",
              "      <td>1</td>\n",
              "      <td>2020</td>\n",
              "      <td>-0.552586</td>\n",
              "      <td>0.690675</td>\n",
              "      <td>1.307029</td>\n",
              "      <td>0.984400</td>\n",
              "      <td>0.666667</td>\n",
              "      <td>0</td>\n",
              "      <td>1</td>\n",
              "    </tr>\n",
              "    <tr>\n",
              "      <th>2</th>\n",
              "      <td>India</td>\n",
              "      <td>0.0</td>\n",
              "      <td>1</td>\n",
              "      <td>v Australia</td>\n",
              "      <td>Mumbai</td>\n",
              "      <td>2</td>\n",
              "      <td>0</td>\n",
              "      <td>14</td>\n",
              "      <td>1</td>\n",
              "      <td>2020</td>\n",
              "      <td>0.994806</td>\n",
              "      <td>0.577839</td>\n",
              "      <td>0.032748</td>\n",
              "      <td>-0.437124</td>\n",
              "      <td>0.000000</td>\n",
              "      <td>0</td>\n",
              "      <td>1</td>\n",
              "    </tr>\n",
              "    <tr>\n",
              "      <th>3</th>\n",
              "      <td>India</td>\n",
              "      <td>5.0</td>\n",
              "      <td>1</td>\n",
              "      <td>v Australia</td>\n",
              "      <td>The Oval</td>\n",
              "      <td>2</td>\n",
              "      <td>1</td>\n",
              "      <td>9</td>\n",
              "      <td>6</td>\n",
              "      <td>2019</td>\n",
              "      <td>-0.552586</td>\n",
              "      <td>0.690675</td>\n",
              "      <td>1.486928</td>\n",
              "      <td>1.194996</td>\n",
              "      <td>0.555556</td>\n",
              "      <td>1</td>\n",
              "      <td>1</td>\n",
              "    </tr>\n",
              "    <tr>\n",
              "      <th>4</th>\n",
              "      <td>India</td>\n",
              "      <td>0.0</td>\n",
              "      <td>2</td>\n",
              "      <td>v Australia</td>\n",
              "      <td>Delhi</td>\n",
              "      <td>2</td>\n",
              "      <td>0</td>\n",
              "      <td>13</td>\n",
              "      <td>3</td>\n",
              "      <td>2019</td>\n",
              "      <td>-0.552586</td>\n",
              "      <td>0.690675</td>\n",
              "      <td>-0.237100</td>\n",
              "      <td>-0.823216</td>\n",
              "      <td>0.000000</td>\n",
              "      <td>0</td>\n",
              "      <td>0</td>\n",
              "    </tr>\n",
              "  </tbody>\n",
              "</table>\n",
              "</div>"
            ],
            "text/plain": [
              "    Team  Wickets  Inns  ... normalized_wickets Toss_Outcome  Bat_Inning\n",
              "0  India      3.0     2  ...           0.333333            0           0\n",
              "1  India      6.0     1  ...           0.666667            0           1\n",
              "2  India      0.0     1  ...           0.000000            0           1\n",
              "3  India      5.0     1  ...           0.555556            1           1\n",
              "4  India      0.0     2  ...           0.000000            0           0\n",
              "\n",
              "[5 rows x 17 columns]"
            ]
          },
          "metadata": {
            "tags": []
          },
          "execution_count": 32
        }
      ]
    },
    {
      "cell_type": "code",
      "metadata": {
        "id": "s9TbVNRfa8g7",
        "colab_type": "code",
        "outputId": "ef8b852e-5878-42d5-8f9e-4c8075ee27d5",
        "colab": {
          "base_uri": "https://localhost:8080/",
          "height": 289
        }
      },
      "source": [
        "!pip install category_encoders"
      ],
      "execution_count": 34,
      "outputs": [
        {
          "output_type": "stream",
          "text": [
            "Collecting category_encoders\n",
            "\u001b[?25l  Downloading https://files.pythonhosted.org/packages/a0/52/c54191ad3782de633ea3d6ee3bb2837bda0cf3bc97644bb6375cf14150a0/category_encoders-2.1.0-py2.py3-none-any.whl (100kB)\n",
            "\r\u001b[K     |███▎                            | 10kB 9.9MB/s eta 0:00:01\r\u001b[K     |██████▌                         | 20kB 2.2MB/s eta 0:00:01\r\u001b[K     |█████████▉                      | 30kB 2.8MB/s eta 0:00:01\r\u001b[K     |█████████████                   | 40kB 2.1MB/s eta 0:00:01\r\u001b[K     |████████████████▍               | 51kB 2.3MB/s eta 0:00:01\r\u001b[K     |███████████████████▋            | 61kB 2.8MB/s eta 0:00:01\r\u001b[K     |██████████████████████▉         | 71kB 3.1MB/s eta 0:00:01\r\u001b[K     |██████████████████████████▏     | 81kB 3.3MB/s eta 0:00:01\r\u001b[K     |█████████████████████████████▍  | 92kB 3.6MB/s eta 0:00:01\r\u001b[K     |████████████████████████████████| 102kB 2.9MB/s \n",
            "\u001b[?25hRequirement already satisfied: pandas>=0.21.1 in /usr/local/lib/python3.6/dist-packages (from category_encoders) (0.25.3)\n",
            "Requirement already satisfied: statsmodels>=0.6.1 in /usr/local/lib/python3.6/dist-packages (from category_encoders) (0.10.2)\n",
            "Requirement already satisfied: scipy>=0.19.0 in /usr/local/lib/python3.6/dist-packages (from category_encoders) (1.4.1)\n",
            "Requirement already satisfied: scikit-learn>=0.20.0 in /usr/local/lib/python3.6/dist-packages (from category_encoders) (0.22.1)\n",
            "Requirement already satisfied: numpy>=1.11.3 in /usr/local/lib/python3.6/dist-packages (from category_encoders) (1.17.5)\n",
            "Requirement already satisfied: patsy>=0.4.1 in /usr/local/lib/python3.6/dist-packages (from category_encoders) (0.5.1)\n",
            "Requirement already satisfied: python-dateutil>=2.6.1 in /usr/local/lib/python3.6/dist-packages (from pandas>=0.21.1->category_encoders) (2.6.1)\n",
            "Requirement already satisfied: pytz>=2017.2 in /usr/local/lib/python3.6/dist-packages (from pandas>=0.21.1->category_encoders) (2018.9)\n",
            "Requirement already satisfied: joblib>=0.11 in /usr/local/lib/python3.6/dist-packages (from scikit-learn>=0.20.0->category_encoders) (0.14.1)\n",
            "Requirement already satisfied: six in /usr/local/lib/python3.6/dist-packages (from patsy>=0.4.1->category_encoders) (1.12.0)\n",
            "Installing collected packages: category-encoders\n",
            "Successfully installed category-encoders-2.1.0\n"
          ],
          "name": "stdout"
        }
      ]
    },
    {
      "cell_type": "code",
      "metadata": {
        "id": "e2IT4zaFUvBO",
        "colab_type": "code",
        "colab": {}
      },
      "source": [
        "import category_encoders as ce\n",
        "cat_features = ['Team', 'Opposition', 'Ground']\n",
        "count_enc = ce.CountEncoder()\n",
        "count_encoded = count_enc.fit_transform(cric_df[cat_features])\n",
        "\n",
        "data_cols1 = ['Wickets', 'Inns', 'day', 'month', 'year', 'outcome', 'Rank', 'normalized_BR', 'normalized_overs', 'normalized_match_score', 'normalized_RPO', 'Toss_Outcome', 'Bat_Inning']\n",
        "data_cols2 = ['Wickets', 'Inns', 'day', 'month', 'year', 'outcome', 'Rank', 'BR', 'Overs', 'Match Score', 'RPO', 'Toss_Outcome', 'Bat_Inning']\n",
        "Trans_data1 = cric_df2[data_cols1].join(count_encoded)\n",
        "Trans_data2 = cric_df3[data_cols2].join(count_encoded)"
      ],
      "execution_count": 0,
      "outputs": []
    },
    {
      "cell_type": "code",
      "metadata": {
        "id": "8GAn_4pTa4Nk",
        "colab_type": "code",
        "outputId": "923d9f5d-d74d-4ac4-fc55-8eaf29459951",
        "colab": {
          "base_uri": "https://localhost:8080/",
          "height": 216
        }
      },
      "source": [
        "Trans_data1.head()"
      ],
      "execution_count": 36,
      "outputs": [
        {
          "output_type": "execute_result",
          "data": {
            "text/html": [
              "<div>\n",
              "<style scoped>\n",
              "    .dataframe tbody tr th:only-of-type {\n",
              "        vertical-align: middle;\n",
              "    }\n",
              "\n",
              "    .dataframe tbody tr th {\n",
              "        vertical-align: top;\n",
              "    }\n",
              "\n",
              "    .dataframe thead th {\n",
              "        text-align: right;\n",
              "    }\n",
              "</style>\n",
              "<table border=\"1\" class=\"dataframe\">\n",
              "  <thead>\n",
              "    <tr style=\"text-align: right;\">\n",
              "      <th></th>\n",
              "      <th>Wickets</th>\n",
              "      <th>Inns</th>\n",
              "      <th>day</th>\n",
              "      <th>month</th>\n",
              "      <th>year</th>\n",
              "      <th>outcome</th>\n",
              "      <th>Rank</th>\n",
              "      <th>normalized_BR</th>\n",
              "      <th>normalized_overs</th>\n",
              "      <th>normalized_match_score</th>\n",
              "      <th>normalized_RPO</th>\n",
              "      <th>Toss_Outcome</th>\n",
              "      <th>Bat_Inning</th>\n",
              "      <th>Team</th>\n",
              "      <th>Opposition</th>\n",
              "      <th>Ground</th>\n",
              "    </tr>\n",
              "  </thead>\n",
              "  <tbody>\n",
              "    <tr>\n",
              "      <th>0</th>\n",
              "      <td>3.0</td>\n",
              "      <td>2</td>\n",
              "      <td>19</td>\n",
              "      <td>1</td>\n",
              "      <td>2020</td>\n",
              "      <td>1</td>\n",
              "      <td>2</td>\n",
              "      <td>-0.238925</td>\n",
              "      <td>0.352168</td>\n",
              "      <td>0.542460</td>\n",
              "      <td>0.352612</td>\n",
              "      <td>0</td>\n",
              "      <td>0</td>\n",
              "      <td>103</td>\n",
              "      <td>93</td>\n",
              "      <td>4</td>\n",
              "    </tr>\n",
              "    <tr>\n",
              "      <th>1</th>\n",
              "      <td>6.0</td>\n",
              "      <td>1</td>\n",
              "      <td>17</td>\n",
              "      <td>1</td>\n",
              "      <td>2020</td>\n",
              "      <td>1</td>\n",
              "      <td>2</td>\n",
              "      <td>-0.552586</td>\n",
              "      <td>0.690675</td>\n",
              "      <td>1.307029</td>\n",
              "      <td>0.984400</td>\n",
              "      <td>0</td>\n",
              "      <td>1</td>\n",
              "      <td>103</td>\n",
              "      <td>93</td>\n",
              "      <td>4</td>\n",
              "    </tr>\n",
              "    <tr>\n",
              "      <th>2</th>\n",
              "      <td>0.0</td>\n",
              "      <td>1</td>\n",
              "      <td>14</td>\n",
              "      <td>1</td>\n",
              "      <td>2020</td>\n",
              "      <td>0</td>\n",
              "      <td>2</td>\n",
              "      <td>0.994806</td>\n",
              "      <td>0.577839</td>\n",
              "      <td>0.032748</td>\n",
              "      <td>-0.437124</td>\n",
              "      <td>0</td>\n",
              "      <td>1</td>\n",
              "      <td>103</td>\n",
              "      <td>93</td>\n",
              "      <td>6</td>\n",
              "    </tr>\n",
              "    <tr>\n",
              "      <th>3</th>\n",
              "      <td>5.0</td>\n",
              "      <td>1</td>\n",
              "      <td>9</td>\n",
              "      <td>6</td>\n",
              "      <td>2019</td>\n",
              "      <td>1</td>\n",
              "      <td>2</td>\n",
              "      <td>-0.552586</td>\n",
              "      <td>0.690675</td>\n",
              "      <td>1.486928</td>\n",
              "      <td>1.194996</td>\n",
              "      <td>1</td>\n",
              "      <td>1</td>\n",
              "      <td>103</td>\n",
              "      <td>93</td>\n",
              "      <td>28</td>\n",
              "    </tr>\n",
              "    <tr>\n",
              "      <th>4</th>\n",
              "      <td>0.0</td>\n",
              "      <td>2</td>\n",
              "      <td>13</td>\n",
              "      <td>3</td>\n",
              "      <td>2019</td>\n",
              "      <td>0</td>\n",
              "      <td>2</td>\n",
              "      <td>-0.552586</td>\n",
              "      <td>0.690675</td>\n",
              "      <td>-0.237100</td>\n",
              "      <td>-0.823216</td>\n",
              "      <td>0</td>\n",
              "      <td>0</td>\n",
              "      <td>103</td>\n",
              "      <td>93</td>\n",
              "      <td>4</td>\n",
              "    </tr>\n",
              "  </tbody>\n",
              "</table>\n",
              "</div>"
            ],
            "text/plain": [
              "   Wickets  Inns  day  month  ...  Bat_Inning  Team  Opposition  Ground\n",
              "0      3.0     2   19      1  ...           0   103          93       4\n",
              "1      6.0     1   17      1  ...           1   103          93       4\n",
              "2      0.0     1   14      1  ...           1   103          93       6\n",
              "3      5.0     1    9      6  ...           1   103          93      28\n",
              "4      0.0     2   13      3  ...           0   103          93       4\n",
              "\n",
              "[5 rows x 16 columns]"
            ]
          },
          "metadata": {
            "tags": []
          },
          "execution_count": 36
        }
      ]
    },
    {
      "cell_type": "code",
      "metadata": {
        "id": "7DVntm1vbGGM",
        "colab_type": "code",
        "outputId": "96608f47-0072-4d7a-e139-5f3810fd3af9",
        "colab": {
          "base_uri": "https://localhost:8080/",
          "height": 196
        }
      },
      "source": [
        "Trans_data2.head()"
      ],
      "execution_count": 37,
      "outputs": [
        {
          "output_type": "execute_result",
          "data": {
            "text/html": [
              "<div>\n",
              "<style scoped>\n",
              "    .dataframe tbody tr th:only-of-type {\n",
              "        vertical-align: middle;\n",
              "    }\n",
              "\n",
              "    .dataframe tbody tr th {\n",
              "        vertical-align: top;\n",
              "    }\n",
              "\n",
              "    .dataframe thead th {\n",
              "        text-align: right;\n",
              "    }\n",
              "</style>\n",
              "<table border=\"1\" class=\"dataframe\">\n",
              "  <thead>\n",
              "    <tr style=\"text-align: right;\">\n",
              "      <th></th>\n",
              "      <th>Wickets</th>\n",
              "      <th>Inns</th>\n",
              "      <th>day</th>\n",
              "      <th>month</th>\n",
              "      <th>year</th>\n",
              "      <th>outcome</th>\n",
              "      <th>Rank</th>\n",
              "      <th>BR</th>\n",
              "      <th>Overs</th>\n",
              "      <th>Match Score</th>\n",
              "      <th>RPO</th>\n",
              "      <th>Toss_Outcome</th>\n",
              "      <th>Bat_Inning</th>\n",
              "      <th>Team</th>\n",
              "      <th>Opposition</th>\n",
              "      <th>Ground</th>\n",
              "    </tr>\n",
              "  </thead>\n",
              "  <tbody>\n",
              "    <tr>\n",
              "      <th>0</th>\n",
              "      <td>3.0</td>\n",
              "      <td>2</td>\n",
              "      <td>19</td>\n",
              "      <td>1</td>\n",
              "      <td>2020</td>\n",
              "      <td>1</td>\n",
              "      <td>2</td>\n",
              "      <td>15.0</td>\n",
              "      <td>47.3</td>\n",
              "      <td>289</td>\n",
              "      <td>6.08</td>\n",
              "      <td>0</td>\n",
              "      <td>0</td>\n",
              "      <td>103</td>\n",
              "      <td>93</td>\n",
              "      <td>4</td>\n",
              "    </tr>\n",
              "    <tr>\n",
              "      <th>1</th>\n",
              "      <td>6.0</td>\n",
              "      <td>1</td>\n",
              "      <td>17</td>\n",
              "      <td>1</td>\n",
              "      <td>2020</td>\n",
              "      <td>1</td>\n",
              "      <td>2</td>\n",
              "      <td>0.0</td>\n",
              "      <td>50.0</td>\n",
              "      <td>340</td>\n",
              "      <td>6.80</td>\n",
              "      <td>0</td>\n",
              "      <td>1</td>\n",
              "      <td>103</td>\n",
              "      <td>93</td>\n",
              "      <td>4</td>\n",
              "    </tr>\n",
              "    <tr>\n",
              "      <th>2</th>\n",
              "      <td>0.0</td>\n",
              "      <td>1</td>\n",
              "      <td>14</td>\n",
              "      <td>1</td>\n",
              "      <td>2020</td>\n",
              "      <td>0</td>\n",
              "      <td>2</td>\n",
              "      <td>74.0</td>\n",
              "      <td>49.1</td>\n",
              "      <td>255</td>\n",
              "      <td>5.18</td>\n",
              "      <td>0</td>\n",
              "      <td>1</td>\n",
              "      <td>103</td>\n",
              "      <td>93</td>\n",
              "      <td>6</td>\n",
              "    </tr>\n",
              "    <tr>\n",
              "      <th>3</th>\n",
              "      <td>5.0</td>\n",
              "      <td>1</td>\n",
              "      <td>9</td>\n",
              "      <td>6</td>\n",
              "      <td>2019</td>\n",
              "      <td>1</td>\n",
              "      <td>2</td>\n",
              "      <td>0.0</td>\n",
              "      <td>50.0</td>\n",
              "      <td>352</td>\n",
              "      <td>7.04</td>\n",
              "      <td>1</td>\n",
              "      <td>1</td>\n",
              "      <td>103</td>\n",
              "      <td>93</td>\n",
              "      <td>28</td>\n",
              "    </tr>\n",
              "    <tr>\n",
              "      <th>4</th>\n",
              "      <td>0.0</td>\n",
              "      <td>2</td>\n",
              "      <td>13</td>\n",
              "      <td>3</td>\n",
              "      <td>2019</td>\n",
              "      <td>0</td>\n",
              "      <td>2</td>\n",
              "      <td>0.0</td>\n",
              "      <td>50.0</td>\n",
              "      <td>237</td>\n",
              "      <td>4.74</td>\n",
              "      <td>0</td>\n",
              "      <td>0</td>\n",
              "      <td>103</td>\n",
              "      <td>93</td>\n",
              "      <td>4</td>\n",
              "    </tr>\n",
              "  </tbody>\n",
              "</table>\n",
              "</div>"
            ],
            "text/plain": [
              "   Wickets  Inns  day  month  ...  Bat_Inning  Team  Opposition  Ground\n",
              "0      3.0     2   19      1  ...           0   103          93       4\n",
              "1      6.0     1   17      1  ...           1   103          93       4\n",
              "2      0.0     1   14      1  ...           1   103          93       6\n",
              "3      5.0     1    9      6  ...           1   103          93      28\n",
              "4      0.0     2   13      3  ...           0   103          93       4\n",
              "\n",
              "[5 rows x 16 columns]"
            ]
          },
          "metadata": {
            "tags": []
          },
          "execution_count": 37
        }
      ]
    },
    {
      "cell_type": "code",
      "metadata": {
        "id": "99qv8TRlduvH",
        "colab_type": "code",
        "outputId": "c4c2e537-f4a8-4d3a-8ecc-e1d82d45dd00",
        "colab": {
          "base_uri": "https://localhost:8080/",
          "height": 370
        }
      },
      "source": [
        "Trans_data2.info()"
      ],
      "execution_count": 38,
      "outputs": [
        {
          "output_type": "stream",
          "text": [
            "<class 'pandas.core.frame.DataFrame'>\n",
            "RangeIndex: 770 entries, 0 to 769\n",
            "Data columns (total 16 columns):\n",
            "Wickets         770 non-null float64\n",
            "Inns            770 non-null int64\n",
            "day             770 non-null int64\n",
            "month           770 non-null int64\n",
            "year            770 non-null int64\n",
            "outcome         770 non-null int64\n",
            "Rank            770 non-null int64\n",
            "BR              770 non-null float64\n",
            "Overs           770 non-null float64\n",
            "Match Score     770 non-null int64\n",
            "RPO             770 non-null float64\n",
            "Toss_Outcome    770 non-null int64\n",
            "Bat_Inning      770 non-null int64\n",
            "Team            770 non-null int64\n",
            "Opposition      770 non-null int64\n",
            "Ground          770 non-null int64\n",
            "dtypes: float64(4), int64(12)\n",
            "memory usage: 96.4 KB\n"
          ],
          "name": "stdout"
        }
      ]
    },
    {
      "cell_type": "code",
      "metadata": {
        "id": "CaaXWgbEbOdx",
        "colab_type": "code",
        "outputId": "8523ebf2-e036-4364-81a7-02f61d0ef32f",
        "colab": {
          "base_uri": "https://localhost:8080/",
          "height": 50
        }
      },
      "source": [
        "# Training a model on the Trans_data1\n",
        "train1, valid1, test1 = get_data_splits(Trans_data1)\n",
        "bst1 = train_model(train1, valid1)"
      ],
      "execution_count": 39,
      "outputs": [
        {
          "output_type": "stream",
          "text": [
            "Training model!\n",
            "Validation AUC score: 0.9697\n"
          ],
          "name": "stdout"
        }
      ]
    },
    {
      "cell_type": "code",
      "metadata": {
        "id": "x6h0Dicybk-k",
        "colab_type": "code",
        "outputId": "65a71e05-2c1f-43a6-81f4-b70e9a32e4e1",
        "colab": {
          "base_uri": "https://localhost:8080/",
          "height": 50
        }
      },
      "source": [
        "# Training a model on the Trans_data1\n",
        "train2, valid2, test2 = get_data_splits(Trans_data2)\n",
        "bst2 = train_model(train2, valid2)"
      ],
      "execution_count": 40,
      "outputs": [
        {
          "output_type": "stream",
          "text": [
            "Training model!\n",
            "Validation AUC score: 0.9697\n"
          ],
          "name": "stdout"
        }
      ]
    },
    {
      "cell_type": "markdown",
      "metadata": {
        "id": "EWvq6yyu62z0",
        "colab_type": "text"
      },
      "source": [
        "# Feature Generation"
      ]
    },
    {
      "cell_type": "code",
      "metadata": {
        "id": "jRzce1Y04IJP",
        "colab_type": "code",
        "outputId": "1e4e5b9b-070b-4357-dc34-9a4db9ae001c",
        "colab": {
          "base_uri": "https://localhost:8080/",
          "height": 216
        }
      },
      "source": [
        "cric_df2.head()"
      ],
      "execution_count": 0,
      "outputs": [
        {
          "output_type": "execute_result",
          "data": {
            "text/html": [
              "<div>\n",
              "<style scoped>\n",
              "    .dataframe tbody tr th:only-of-type {\n",
              "        vertical-align: middle;\n",
              "    }\n",
              "\n",
              "    .dataframe tbody tr th {\n",
              "        vertical-align: top;\n",
              "    }\n",
              "\n",
              "    .dataframe thead th {\n",
              "        text-align: right;\n",
              "    }\n",
              "</style>\n",
              "<table border=\"1\" class=\"dataframe\">\n",
              "  <thead>\n",
              "    <tr style=\"text-align: right;\">\n",
              "      <th></th>\n",
              "      <th>Team</th>\n",
              "      <th>Wickets</th>\n",
              "      <th>Inns</th>\n",
              "      <th>Opposition</th>\n",
              "      <th>Ground</th>\n",
              "      <th>Rank</th>\n",
              "      <th>outcome</th>\n",
              "      <th>day</th>\n",
              "      <th>month</th>\n",
              "      <th>year</th>\n",
              "      <th>normalized_BR</th>\n",
              "      <th>normalized_overs</th>\n",
              "      <th>normalized_match_score</th>\n",
              "      <th>normalized_RPO</th>\n",
              "      <th>normalized_wickets</th>\n",
              "      <th>Toss_Outcome</th>\n",
              "      <th>Bat_Inning</th>\n",
              "    </tr>\n",
              "  </thead>\n",
              "  <tbody>\n",
              "    <tr>\n",
              "      <th>0</th>\n",
              "      <td>India</td>\n",
              "      <td>3.0</td>\n",
              "      <td>2</td>\n",
              "      <td>v Australia</td>\n",
              "      <td>Bengaluru</td>\n",
              "      <td>2</td>\n",
              "      <td>1</td>\n",
              "      <td>19</td>\n",
              "      <td>1</td>\n",
              "      <td>2020</td>\n",
              "      <td>-0.238925</td>\n",
              "      <td>0.352168</td>\n",
              "      <td>0.542460</td>\n",
              "      <td>0.352612</td>\n",
              "      <td>0.333333</td>\n",
              "      <td>0</td>\n",
              "      <td>0</td>\n",
              "    </tr>\n",
              "    <tr>\n",
              "      <th>1</th>\n",
              "      <td>India</td>\n",
              "      <td>6.0</td>\n",
              "      <td>1</td>\n",
              "      <td>v Australia</td>\n",
              "      <td>Rajkot</td>\n",
              "      <td>2</td>\n",
              "      <td>1</td>\n",
              "      <td>17</td>\n",
              "      <td>1</td>\n",
              "      <td>2020</td>\n",
              "      <td>-0.552586</td>\n",
              "      <td>0.690675</td>\n",
              "      <td>1.307029</td>\n",
              "      <td>0.984400</td>\n",
              "      <td>0.666667</td>\n",
              "      <td>0</td>\n",
              "      <td>1</td>\n",
              "    </tr>\n",
              "    <tr>\n",
              "      <th>2</th>\n",
              "      <td>India</td>\n",
              "      <td>0.0</td>\n",
              "      <td>1</td>\n",
              "      <td>v Australia</td>\n",
              "      <td>Mumbai</td>\n",
              "      <td>2</td>\n",
              "      <td>0</td>\n",
              "      <td>14</td>\n",
              "      <td>1</td>\n",
              "      <td>2020</td>\n",
              "      <td>0.994806</td>\n",
              "      <td>0.577839</td>\n",
              "      <td>0.032748</td>\n",
              "      <td>-0.437124</td>\n",
              "      <td>0.000000</td>\n",
              "      <td>0</td>\n",
              "      <td>1</td>\n",
              "    </tr>\n",
              "    <tr>\n",
              "      <th>3</th>\n",
              "      <td>India</td>\n",
              "      <td>5.0</td>\n",
              "      <td>1</td>\n",
              "      <td>v Australia</td>\n",
              "      <td>The Oval</td>\n",
              "      <td>2</td>\n",
              "      <td>1</td>\n",
              "      <td>9</td>\n",
              "      <td>6</td>\n",
              "      <td>2019</td>\n",
              "      <td>-0.552586</td>\n",
              "      <td>0.690675</td>\n",
              "      <td>1.486928</td>\n",
              "      <td>1.194996</td>\n",
              "      <td>0.555556</td>\n",
              "      <td>1</td>\n",
              "      <td>1</td>\n",
              "    </tr>\n",
              "    <tr>\n",
              "      <th>4</th>\n",
              "      <td>India</td>\n",
              "      <td>0.0</td>\n",
              "      <td>2</td>\n",
              "      <td>v Australia</td>\n",
              "      <td>Delhi</td>\n",
              "      <td>2</td>\n",
              "      <td>0</td>\n",
              "      <td>13</td>\n",
              "      <td>3</td>\n",
              "      <td>2019</td>\n",
              "      <td>-0.552586</td>\n",
              "      <td>0.690675</td>\n",
              "      <td>-0.237100</td>\n",
              "      <td>-0.823216</td>\n",
              "      <td>0.000000</td>\n",
              "      <td>0</td>\n",
              "      <td>0</td>\n",
              "    </tr>\n",
              "  </tbody>\n",
              "</table>\n",
              "</div>"
            ],
            "text/plain": [
              "    Team  Wickets  Inns  ... normalized_wickets Toss_Outcome  Bat_Inning\n",
              "0  India      3.0     2  ...           0.333333            0           0\n",
              "1  India      6.0     1  ...           0.666667            0           1\n",
              "2  India      0.0     1  ...           0.000000            0           1\n",
              "3  India      5.0     1  ...           0.555556            1           1\n",
              "4  India      0.0     2  ...           0.000000            0           0\n",
              "\n",
              "[5 rows x 17 columns]"
            ]
          },
          "metadata": {
            "tags": []
          },
          "execution_count": 59
        }
      ]
    },
    {
      "cell_type": "code",
      "metadata": {
        "id": "76Gk6CQIb05D",
        "colab_type": "code",
        "outputId": "50eee906-3c22-47d1-d0db-ff2f2da8dab1",
        "colab": {
          "base_uri": "https://localhost:8080/",
          "height": 202
        }
      },
      "source": [
        "from sklearn.preprocessing import LabelEncoder\n",
        "\n",
        "interactions = cric_df3['Opposition'] + \"_\" + cric_df3['Ground']\n",
        "print(interactions.head(10))"
      ],
      "execution_count": 41,
      "outputs": [
        {
          "output_type": "stream",
          "text": [
            "0             v Australia_Bengaluru\n",
            "1                v Australia_Rajkot\n",
            "2                v Australia_Mumbai\n",
            "3              v Australia_The Oval\n",
            "4                 v Australia_Delhi\n",
            "5                v Australia_Mohali\n",
            "6                v Australia_Ranchi\n",
            "7                v Australia_Nagpur\n",
            "8    v Australia_Hyderabad (Deccan)\n",
            "9             v Australia_Melbourne\n",
            "dtype: object\n"
          ],
          "name": "stdout"
        }
      ]
    },
    {
      "cell_type": "code",
      "metadata": {
        "id": "lg7iT_Y34UbV",
        "colab_type": "code",
        "outputId": "dba8b431-8f4e-41b5-b993-0285b9035e13",
        "colab": {
          "base_uri": "https://localhost:8080/",
          "height": 213
        }
      },
      "source": [
        "label_enc = LabelEncoder()\n",
        "data_interaction = Trans_data2.assign(Opposition_Ground=label_enc.fit_transform(interactions))\n",
        "data_interaction.head()"
      ],
      "execution_count": 42,
      "outputs": [
        {
          "output_type": "execute_result",
          "data": {
            "text/html": [
              "<div>\n",
              "<style scoped>\n",
              "    .dataframe tbody tr th:only-of-type {\n",
              "        vertical-align: middle;\n",
              "    }\n",
              "\n",
              "    .dataframe tbody tr th {\n",
              "        vertical-align: top;\n",
              "    }\n",
              "\n",
              "    .dataframe thead th {\n",
              "        text-align: right;\n",
              "    }\n",
              "</style>\n",
              "<table border=\"1\" class=\"dataframe\">\n",
              "  <thead>\n",
              "    <tr style=\"text-align: right;\">\n",
              "      <th></th>\n",
              "      <th>Wickets</th>\n",
              "      <th>Inns</th>\n",
              "      <th>day</th>\n",
              "      <th>month</th>\n",
              "      <th>year</th>\n",
              "      <th>outcome</th>\n",
              "      <th>Rank</th>\n",
              "      <th>BR</th>\n",
              "      <th>Overs</th>\n",
              "      <th>Match Score</th>\n",
              "      <th>RPO</th>\n",
              "      <th>Toss_Outcome</th>\n",
              "      <th>Bat_Inning</th>\n",
              "      <th>Team</th>\n",
              "      <th>Opposition</th>\n",
              "      <th>Ground</th>\n",
              "      <th>Opposition_Ground</th>\n",
              "    </tr>\n",
              "  </thead>\n",
              "  <tbody>\n",
              "    <tr>\n",
              "      <th>0</th>\n",
              "      <td>3.0</td>\n",
              "      <td>2</td>\n",
              "      <td>19</td>\n",
              "      <td>1</td>\n",
              "      <td>2020</td>\n",
              "      <td>1</td>\n",
              "      <td>2</td>\n",
              "      <td>15.0</td>\n",
              "      <td>47.3</td>\n",
              "      <td>289</td>\n",
              "      <td>6.08</td>\n",
              "      <td>0</td>\n",
              "      <td>0</td>\n",
              "      <td>103</td>\n",
              "      <td>93</td>\n",
              "      <td>4</td>\n",
              "      <td>4</td>\n",
              "    </tr>\n",
              "    <tr>\n",
              "      <th>1</th>\n",
              "      <td>6.0</td>\n",
              "      <td>1</td>\n",
              "      <td>17</td>\n",
              "      <td>1</td>\n",
              "      <td>2020</td>\n",
              "      <td>1</td>\n",
              "      <td>2</td>\n",
              "      <td>0.0</td>\n",
              "      <td>50.0</td>\n",
              "      <td>340</td>\n",
              "      <td>6.80</td>\n",
              "      <td>0</td>\n",
              "      <td>1</td>\n",
              "      <td>103</td>\n",
              "      <td>93</td>\n",
              "      <td>4</td>\n",
              "      <td>37</td>\n",
              "    </tr>\n",
              "    <tr>\n",
              "      <th>2</th>\n",
              "      <td>0.0</td>\n",
              "      <td>1</td>\n",
              "      <td>14</td>\n",
              "      <td>1</td>\n",
              "      <td>2020</td>\n",
              "      <td>0</td>\n",
              "      <td>2</td>\n",
              "      <td>74.0</td>\n",
              "      <td>49.1</td>\n",
              "      <td>255</td>\n",
              "      <td>5.18</td>\n",
              "      <td>0</td>\n",
              "      <td>1</td>\n",
              "      <td>103</td>\n",
              "      <td>93</td>\n",
              "      <td>6</td>\n",
              "      <td>30</td>\n",
              "    </tr>\n",
              "    <tr>\n",
              "      <th>3</th>\n",
              "      <td>5.0</td>\n",
              "      <td>1</td>\n",
              "      <td>9</td>\n",
              "      <td>6</td>\n",
              "      <td>2019</td>\n",
              "      <td>1</td>\n",
              "      <td>2</td>\n",
              "      <td>0.0</td>\n",
              "      <td>50.0</td>\n",
              "      <td>352</td>\n",
              "      <td>7.04</td>\n",
              "      <td>1</td>\n",
              "      <td>1</td>\n",
              "      <td>103</td>\n",
              "      <td>93</td>\n",
              "      <td>28</td>\n",
              "      <td>43</td>\n",
              "    </tr>\n",
              "    <tr>\n",
              "      <th>4</th>\n",
              "      <td>0.0</td>\n",
              "      <td>2</td>\n",
              "      <td>13</td>\n",
              "      <td>3</td>\n",
              "      <td>2019</td>\n",
              "      <td>0</td>\n",
              "      <td>2</td>\n",
              "      <td>0.0</td>\n",
              "      <td>50.0</td>\n",
              "      <td>237</td>\n",
              "      <td>4.74</td>\n",
              "      <td>0</td>\n",
              "      <td>0</td>\n",
              "      <td>103</td>\n",
              "      <td>93</td>\n",
              "      <td>4</td>\n",
              "      <td>16</td>\n",
              "    </tr>\n",
              "  </tbody>\n",
              "</table>\n",
              "</div>"
            ],
            "text/plain": [
              "   Wickets  Inns  day  month  ...  Team  Opposition  Ground  Opposition_Ground\n",
              "0      3.0     2   19      1  ...   103          93       4                  4\n",
              "1      6.0     1   17      1  ...   103          93       4                 37\n",
              "2      0.0     1   14      1  ...   103          93       6                 30\n",
              "3      5.0     1    9      6  ...   103          93      28                 43\n",
              "4      0.0     2   13      3  ...   103          93       4                 16\n",
              "\n",
              "[5 rows x 17 columns]"
            ]
          },
          "metadata": {
            "tags": []
          },
          "execution_count": 42
        }
      ]
    },
    {
      "cell_type": "code",
      "metadata": {
        "id": "RpChiIob4p8v",
        "colab_type": "code",
        "outputId": "364052cc-c53f-41a5-8421-ec643bfbf946",
        "colab": {
          "base_uri": "https://localhost:8080/",
          "height": 233
        }
      },
      "source": [
        "interactions2 = cric_df3['Team'] + \"_\" + cric_df3['Ground']\n",
        "label_enc = LabelEncoder()\n",
        "data_interaction2 = data_interaction.assign(Team_Ground=label_enc.fit_transform(interactions2))\n",
        "data_interaction2.head()"
      ],
      "execution_count": 43,
      "outputs": [
        {
          "output_type": "execute_result",
          "data": {
            "text/html": [
              "<div>\n",
              "<style scoped>\n",
              "    .dataframe tbody tr th:only-of-type {\n",
              "        vertical-align: middle;\n",
              "    }\n",
              "\n",
              "    .dataframe tbody tr th {\n",
              "        vertical-align: top;\n",
              "    }\n",
              "\n",
              "    .dataframe thead th {\n",
              "        text-align: right;\n",
              "    }\n",
              "</style>\n",
              "<table border=\"1\" class=\"dataframe\">\n",
              "  <thead>\n",
              "    <tr style=\"text-align: right;\">\n",
              "      <th></th>\n",
              "      <th>Wickets</th>\n",
              "      <th>Inns</th>\n",
              "      <th>day</th>\n",
              "      <th>month</th>\n",
              "      <th>year</th>\n",
              "      <th>outcome</th>\n",
              "      <th>Rank</th>\n",
              "      <th>BR</th>\n",
              "      <th>Overs</th>\n",
              "      <th>Match Score</th>\n",
              "      <th>RPO</th>\n",
              "      <th>Toss_Outcome</th>\n",
              "      <th>Bat_Inning</th>\n",
              "      <th>Team</th>\n",
              "      <th>Opposition</th>\n",
              "      <th>Ground</th>\n",
              "      <th>Opposition_Ground</th>\n",
              "      <th>Team_Ground</th>\n",
              "    </tr>\n",
              "  </thead>\n",
              "  <tbody>\n",
              "    <tr>\n",
              "      <th>0</th>\n",
              "      <td>3.0</td>\n",
              "      <td>2</td>\n",
              "      <td>19</td>\n",
              "      <td>1</td>\n",
              "      <td>2020</td>\n",
              "      <td>1</td>\n",
              "      <td>2</td>\n",
              "      <td>15.0</td>\n",
              "      <td>47.3</td>\n",
              "      <td>289</td>\n",
              "      <td>6.08</td>\n",
              "      <td>0</td>\n",
              "      <td>0</td>\n",
              "      <td>103</td>\n",
              "      <td>93</td>\n",
              "      <td>4</td>\n",
              "      <td>4</td>\n",
              "      <td>116</td>\n",
              "    </tr>\n",
              "    <tr>\n",
              "      <th>1</th>\n",
              "      <td>6.0</td>\n",
              "      <td>1</td>\n",
              "      <td>17</td>\n",
              "      <td>1</td>\n",
              "      <td>2020</td>\n",
              "      <td>1</td>\n",
              "      <td>2</td>\n",
              "      <td>0.0</td>\n",
              "      <td>50.0</td>\n",
              "      <td>340</td>\n",
              "      <td>6.80</td>\n",
              "      <td>0</td>\n",
              "      <td>1</td>\n",
              "      <td>103</td>\n",
              "      <td>93</td>\n",
              "      <td>4</td>\n",
              "      <td>37</td>\n",
              "      <td>156</td>\n",
              "    </tr>\n",
              "    <tr>\n",
              "      <th>2</th>\n",
              "      <td>0.0</td>\n",
              "      <td>1</td>\n",
              "      <td>14</td>\n",
              "      <td>1</td>\n",
              "      <td>2020</td>\n",
              "      <td>0</td>\n",
              "      <td>2</td>\n",
              "      <td>74.0</td>\n",
              "      <td>49.1</td>\n",
              "      <td>255</td>\n",
              "      <td>5.18</td>\n",
              "      <td>0</td>\n",
              "      <td>1</td>\n",
              "      <td>103</td>\n",
              "      <td>93</td>\n",
              "      <td>6</td>\n",
              "      <td>30</td>\n",
              "      <td>145</td>\n",
              "    </tr>\n",
              "    <tr>\n",
              "      <th>3</th>\n",
              "      <td>5.0</td>\n",
              "      <td>1</td>\n",
              "      <td>9</td>\n",
              "      <td>6</td>\n",
              "      <td>2019</td>\n",
              "      <td>1</td>\n",
              "      <td>2</td>\n",
              "      <td>0.0</td>\n",
              "      <td>50.0</td>\n",
              "      <td>352</td>\n",
              "      <td>7.04</td>\n",
              "      <td>1</td>\n",
              "      <td>1</td>\n",
              "      <td>103</td>\n",
              "      <td>93</td>\n",
              "      <td>28</td>\n",
              "      <td>43</td>\n",
              "      <td>160</td>\n",
              "    </tr>\n",
              "    <tr>\n",
              "      <th>4</th>\n",
              "      <td>0.0</td>\n",
              "      <td>2</td>\n",
              "      <td>13</td>\n",
              "      <td>3</td>\n",
              "      <td>2019</td>\n",
              "      <td>0</td>\n",
              "      <td>2</td>\n",
              "      <td>0.0</td>\n",
              "      <td>50.0</td>\n",
              "      <td>237</td>\n",
              "      <td>4.74</td>\n",
              "      <td>0</td>\n",
              "      <td>0</td>\n",
              "      <td>103</td>\n",
              "      <td>93</td>\n",
              "      <td>4</td>\n",
              "      <td>16</td>\n",
              "      <td>126</td>\n",
              "    </tr>\n",
              "  </tbody>\n",
              "</table>\n",
              "</div>"
            ],
            "text/plain": [
              "   Wickets  Inns  day  ...  Ground  Opposition_Ground  Team_Ground\n",
              "0      3.0     2   19  ...       4                  4          116\n",
              "1      6.0     1   17  ...       4                 37          156\n",
              "2      0.0     1   14  ...       6                 30          145\n",
              "3      5.0     1    9  ...      28                 43          160\n",
              "4      0.0     2   13  ...       4                 16          126\n",
              "\n",
              "[5 rows x 18 columns]"
            ]
          },
          "metadata": {
            "tags": []
          },
          "execution_count": 43
        }
      ]
    },
    {
      "cell_type": "code",
      "metadata": {
        "id": "y3c6VFTV5KBL",
        "colab_type": "code",
        "outputId": "bf52f454-51cb-4179-daf6-6f5e5153ccc6",
        "colab": {
          "base_uri": "https://localhost:8080/",
          "height": 233
        }
      },
      "source": [
        "interactions3 = cric_df3['Team'] + \"_\" + cric_df3['Opposition']\n",
        "label_enc = LabelEncoder()\n",
        "data_interaction3 = data_interaction2.assign(Team_Opposition=label_enc.fit_transform(interactions3))\n",
        "data_interaction3.head()"
      ],
      "execution_count": 44,
      "outputs": [
        {
          "output_type": "execute_result",
          "data": {
            "text/html": [
              "<div>\n",
              "<style scoped>\n",
              "    .dataframe tbody tr th:only-of-type {\n",
              "        vertical-align: middle;\n",
              "    }\n",
              "\n",
              "    .dataframe tbody tr th {\n",
              "        vertical-align: top;\n",
              "    }\n",
              "\n",
              "    .dataframe thead th {\n",
              "        text-align: right;\n",
              "    }\n",
              "</style>\n",
              "<table border=\"1\" class=\"dataframe\">\n",
              "  <thead>\n",
              "    <tr style=\"text-align: right;\">\n",
              "      <th></th>\n",
              "      <th>Wickets</th>\n",
              "      <th>Inns</th>\n",
              "      <th>day</th>\n",
              "      <th>month</th>\n",
              "      <th>year</th>\n",
              "      <th>outcome</th>\n",
              "      <th>Rank</th>\n",
              "      <th>BR</th>\n",
              "      <th>Overs</th>\n",
              "      <th>Match Score</th>\n",
              "      <th>RPO</th>\n",
              "      <th>Toss_Outcome</th>\n",
              "      <th>Bat_Inning</th>\n",
              "      <th>Team</th>\n",
              "      <th>Opposition</th>\n",
              "      <th>Ground</th>\n",
              "      <th>Opposition_Ground</th>\n",
              "      <th>Team_Ground</th>\n",
              "      <th>Team_Opposition</th>\n",
              "    </tr>\n",
              "  </thead>\n",
              "  <tbody>\n",
              "    <tr>\n",
              "      <th>0</th>\n",
              "      <td>3.0</td>\n",
              "      <td>2</td>\n",
              "      <td>19</td>\n",
              "      <td>1</td>\n",
              "      <td>2020</td>\n",
              "      <td>1</td>\n",
              "      <td>2</td>\n",
              "      <td>15.0</td>\n",
              "      <td>47.3</td>\n",
              "      <td>289</td>\n",
              "      <td>6.08</td>\n",
              "      <td>0</td>\n",
              "      <td>0</td>\n",
              "      <td>103</td>\n",
              "      <td>93</td>\n",
              "      <td>4</td>\n",
              "      <td>4</td>\n",
              "      <td>116</td>\n",
              "      <td>24</td>\n",
              "    </tr>\n",
              "    <tr>\n",
              "      <th>1</th>\n",
              "      <td>6.0</td>\n",
              "      <td>1</td>\n",
              "      <td>17</td>\n",
              "      <td>1</td>\n",
              "      <td>2020</td>\n",
              "      <td>1</td>\n",
              "      <td>2</td>\n",
              "      <td>0.0</td>\n",
              "      <td>50.0</td>\n",
              "      <td>340</td>\n",
              "      <td>6.80</td>\n",
              "      <td>0</td>\n",
              "      <td>1</td>\n",
              "      <td>103</td>\n",
              "      <td>93</td>\n",
              "      <td>4</td>\n",
              "      <td>37</td>\n",
              "      <td>156</td>\n",
              "      <td>24</td>\n",
              "    </tr>\n",
              "    <tr>\n",
              "      <th>2</th>\n",
              "      <td>0.0</td>\n",
              "      <td>1</td>\n",
              "      <td>14</td>\n",
              "      <td>1</td>\n",
              "      <td>2020</td>\n",
              "      <td>0</td>\n",
              "      <td>2</td>\n",
              "      <td>74.0</td>\n",
              "      <td>49.1</td>\n",
              "      <td>255</td>\n",
              "      <td>5.18</td>\n",
              "      <td>0</td>\n",
              "      <td>1</td>\n",
              "      <td>103</td>\n",
              "      <td>93</td>\n",
              "      <td>6</td>\n",
              "      <td>30</td>\n",
              "      <td>145</td>\n",
              "      <td>24</td>\n",
              "    </tr>\n",
              "    <tr>\n",
              "      <th>3</th>\n",
              "      <td>5.0</td>\n",
              "      <td>1</td>\n",
              "      <td>9</td>\n",
              "      <td>6</td>\n",
              "      <td>2019</td>\n",
              "      <td>1</td>\n",
              "      <td>2</td>\n",
              "      <td>0.0</td>\n",
              "      <td>50.0</td>\n",
              "      <td>352</td>\n",
              "      <td>7.04</td>\n",
              "      <td>1</td>\n",
              "      <td>1</td>\n",
              "      <td>103</td>\n",
              "      <td>93</td>\n",
              "      <td>28</td>\n",
              "      <td>43</td>\n",
              "      <td>160</td>\n",
              "      <td>24</td>\n",
              "    </tr>\n",
              "    <tr>\n",
              "      <th>4</th>\n",
              "      <td>0.0</td>\n",
              "      <td>2</td>\n",
              "      <td>13</td>\n",
              "      <td>3</td>\n",
              "      <td>2019</td>\n",
              "      <td>0</td>\n",
              "      <td>2</td>\n",
              "      <td>0.0</td>\n",
              "      <td>50.0</td>\n",
              "      <td>237</td>\n",
              "      <td>4.74</td>\n",
              "      <td>0</td>\n",
              "      <td>0</td>\n",
              "      <td>103</td>\n",
              "      <td>93</td>\n",
              "      <td>4</td>\n",
              "      <td>16</td>\n",
              "      <td>126</td>\n",
              "      <td>24</td>\n",
              "    </tr>\n",
              "  </tbody>\n",
              "</table>\n",
              "</div>"
            ],
            "text/plain": [
              "   Wickets  Inns  day  ...  Opposition_Ground  Team_Ground  Team_Opposition\n",
              "0      3.0     2   19  ...                  4          116               24\n",
              "1      6.0     1   17  ...                 37          156               24\n",
              "2      0.0     1   14  ...                 30          145               24\n",
              "3      5.0     1    9  ...                 43          160               24\n",
              "4      0.0     2   13  ...                 16          126               24\n",
              "\n",
              "[5 rows x 19 columns]"
            ]
          },
          "metadata": {
            "tags": []
          },
          "execution_count": 44
        }
      ]
    },
    {
      "cell_type": "code",
      "metadata": {
        "id": "bolA5CsX9Ehq",
        "colab_type": "code",
        "outputId": "4a40e215-2c44-4bdc-85ed-415b717a6752",
        "colab": {
          "base_uri": "https://localhost:8080/",
          "height": 387
        }
      },
      "source": [
        "# First, create a Series with a timestamp index\n",
        "match_date = pd.Series(cric_df3.index, index=cric_df3['Start Date'], name=\"match_7_days\").sort_index()\n",
        "match_date.head(20)"
      ],
      "execution_count": 45,
      "outputs": [
        {
          "output_type": "execute_result",
          "data": {
            "text/plain": [
              "Start Date\n",
              "2015-01-11    485\n",
              "2015-01-11    681\n",
              "2015-01-15    484\n",
              "2015-01-15    680\n",
              "2015-01-16    148\n",
              "2015-01-16    741\n",
              "2015-01-16    284\n",
              "2015-01-16    564\n",
              "2015-01-18    563\n",
              "2015-01-18     23\n",
              "2015-01-18    740\n",
              "2015-01-18    126\n",
              "2015-01-20    483\n",
              "2015-01-20    679\n",
              "2015-01-20     40\n",
              "2015-01-20    262\n",
              "2015-01-21    562\n",
              "2015-01-21    739\n",
              "2015-01-23    147\n",
              "2015-01-23    678\n",
              "Name: match_7_days, dtype: int64"
            ]
          },
          "metadata": {
            "tags": []
          },
          "execution_count": 45
        }
      ]
    },
    {
      "cell_type": "code",
      "metadata": {
        "id": "OUZelcWn_zwn",
        "colab_type": "code",
        "colab": {}
      },
      "source": [
        "from pandas.plotting import register_matplotlib_converters"
      ],
      "execution_count": 0,
      "outputs": []
    },
    {
      "cell_type": "code",
      "metadata": {
        "id": "6NvXjE1U-QQh",
        "colab_type": "code",
        "outputId": "fd2d094e-11a0-475c-8f34-d90f2d8322d7",
        "colab": {
          "base_uri": "https://localhost:8080/",
          "height": 772
        }
      },
      "source": [
        "matches_7_days = match_date.rolling('7d').count() - 1\n",
        "print(matches_7_days.head(20))\n",
        "\n",
        "# Ignore records with broken launch dates\n",
        "plt.plot(matches_7_days[7:]);\n",
        "plt.title(\"Matches in the last 7 days\");"
      ],
      "execution_count": 47,
      "outputs": [
        {
          "output_type": "stream",
          "text": [
            "Start Date\n",
            "2015-01-11     0.0\n",
            "2015-01-11     1.0\n",
            "2015-01-15     2.0\n",
            "2015-01-15     3.0\n",
            "2015-01-16     4.0\n",
            "2015-01-16     5.0\n",
            "2015-01-16     6.0\n",
            "2015-01-16     7.0\n",
            "2015-01-18     6.0\n",
            "2015-01-18     7.0\n",
            "2015-01-18     8.0\n",
            "2015-01-18     9.0\n",
            "2015-01-20    10.0\n",
            "2015-01-20    11.0\n",
            "2015-01-20    12.0\n",
            "2015-01-20    13.0\n",
            "2015-01-21    14.0\n",
            "2015-01-21    15.0\n",
            "2015-01-23    10.0\n",
            "2015-01-23    11.0\n",
            "Name: match_7_days, dtype: float64\n"
          ],
          "name": "stdout"
        },
        {
          "output_type": "stream",
          "text": [
            "/usr/local/lib/python3.6/dist-packages/pandas/plotting/_matplotlib/converter.py:103: FutureWarning: Using an implicitly registered datetime converter for a matplotlib plotting method. The converter was registered by pandas on import. Future versions of pandas will require you to explicitly register matplotlib converters.\n",
            "\n",
            "To register the converters:\n",
            "\t>>> from pandas.plotting import register_matplotlib_converters\n",
            "\t>>> register_matplotlib_converters()\n",
            "  warnings.warn(msg, FutureWarning)\n"
          ],
          "name": "stderr"
        },
        {
          "output_type": "display_data",
          "data": {
            "image/png": "[encoded data removed]",
            "text/plain": [
              "<Figure size 432x288 with 1 Axes>"
            ]
          },
          "metadata": {
            "tags": []
          }
        }
      ]
    },
    {
      "cell_type": "code",
      "metadata": {
        "id": "iDQJubqU-qDF",
        "colab_type": "code",
        "colab": {}
      },
      "source": [
        "matches_7_days.index = match_date.values\n",
        "matches_7_days = matches_7_days.reindex(cric_df3.index)"
      ],
      "execution_count": 0,
      "outputs": []
    },
    {
      "cell_type": "code",
      "metadata": {
        "id": "VShpEhvr_AO_",
        "colab_type": "code",
        "outputId": "f98835d8-603f-4d43-a7f8-f7761364167a",
        "colab": {
          "base_uri": "https://localhost:8080/",
          "height": 202
        }
      },
      "source": [
        "matches_7_days.head(10)"
      ],
      "execution_count": 49,
      "outputs": [
        {
          "output_type": "execute_result",
          "data": {
            "text/plain": [
              "0     4.0\n",
              "1     3.0\n",
              "2     0.0\n",
              "3    10.0\n",
              "4     8.0\n",
              "5     7.0\n",
              "6    11.0\n",
              "7     8.0\n",
              "8     2.0\n",
              "9     5.0\n",
              "Name: match_7_days, dtype: float64"
            ]
          },
          "metadata": {
            "tags": []
          },
          "execution_count": 49
        }
      ]
    },
    {
      "cell_type": "code",
      "metadata": {
        "id": "6mR8Q4a9_JT5",
        "colab_type": "code",
        "colab": {}
      },
      "source": [
        "data_interaction3 = data_interaction3.join(matches_7_days)"
      ],
      "execution_count": 0,
      "outputs": []
    },
    {
      "cell_type": "code",
      "metadata": {
        "id": "CBBRn31jBiH6",
        "colab_type": "code",
        "colab": {}
      },
      "source": [
        "data_interaction3.to_excel(\"data_interaction3.xlsx\")"
      ],
      "execution_count": 0,
      "outputs": []
    },
    {
      "cell_type": "markdown",
      "metadata": {
        "id": "YLtXdAla678j",
        "colab_type": "text"
      },
      "source": [
        "# Feature Selection"
      ]
    },
    {
      "cell_type": "code",
      "metadata": {
        "id": "tNBWxze25etu",
        "colab_type": "code",
        "outputId": "5a898920-c737-451e-9a83-36024cbe4cc3",
        "colab": {
          "base_uri": "https://localhost:8080/",
          "height": 134
        }
      },
      "source": [
        "from sklearn.feature_selection import SelectKBest, f_classif\n",
        "\n",
        "feature_cols = data_interaction3.columns.drop('outcome')\n",
        "train, valid, _ = get_data_splits(data_interaction3)\n",
        "\n",
        "# Keep 5 features\n",
        "selector = SelectKBest(f_classif, k=8)\n",
        "selector2 = SelectKBest(f_classif, k=5)\n",
        "X_new = selector.fit_transform(train[feature_cols], train['outcome'])\n",
        "X_new2 = selector2.fit_transform(train[feature_cols], train['outcome'])\n",
        "X_new"
      ],
      "execution_count": 52,
      "outputs": [
        {
          "output_type": "execute_result",
          "data": {
            "text/plain": [
              "array([[  3.,   2., 289., ...,  93.,   4., 116.],\n",
              "       [  6.,   2., 340., ...,  93.,  37., 156.],\n",
              "       [  0.,   2., 255., ...,  93.,  30., 145.],\n",
              "       ...,\n",
              "       [  0.,   8., 226., ...,  93.,  15., 283.],\n",
              "       [  0.,   8., 288., ...,  93.,  14., 281.],\n",
              "       [  8.,   8., 227., ...,  93.,  14., 281.]])"
            ]
          },
          "metadata": {
            "tags": []
          },
          "execution_count": 52
        }
      ]
    },
    {
      "cell_type": "code",
      "metadata": {
        "id": "ZoExJX1rCY0C",
        "colab_type": "code",
        "colab": {
          "base_uri": "https://localhost:8080/",
          "height": 134
        },
        "outputId": "05ef6e97-74b2-4988-b43b-030801ebb8a1"
      },
      "source": [
        "X_new2"
      ],
      "execution_count": 53,
      "outputs": [
        {
          "output_type": "execute_result",
          "data": {
            "text/plain": [
              "array([[  3.  ,   2.  , 289.  ,   6.08, 103.  ],\n",
              "       [  6.  ,   2.  , 340.  ,   6.8 , 103.  ],\n",
              "       [  0.  ,   2.  , 255.  ,   5.18, 103.  ],\n",
              "       ...,\n",
              "       [  0.  ,   8.  , 226.  ,   4.58,  88.  ],\n",
              "       [  0.  ,   8.  , 288.  ,   5.89,  88.  ],\n",
              "       [  8.  ,   8.  , 227.  ,   4.54,  88.  ]])"
            ]
          },
          "metadata": {
            "tags": []
          },
          "execution_count": 53
        }
      ]
    },
    {
      "cell_type": "code",
      "metadata": {
        "id": "tH6sJleK6j4C",
        "colab_type": "code",
        "outputId": "204dae31-d646-4258-b37f-b82e49d69532",
        "colab": {
          "base_uri": "https://localhost:8080/",
          "height": 233
        }
      },
      "source": [
        "# Get back the features we've kept, zero out all other features\n",
        "selected_features = pd.DataFrame(selector.inverse_transform(X_new), \n",
        "                                 index=train.index, \n",
        "                                 columns=feature_cols)\n",
        "selected_features.head()"
      ],
      "execution_count": 54,
      "outputs": [
        {
          "output_type": "execute_result",
          "data": {
            "text/html": [
              "<div>\n",
              "<style scoped>\n",
              "    .dataframe tbody tr th:only-of-type {\n",
              "        vertical-align: middle;\n",
              "    }\n",
              "\n",
              "    .dataframe tbody tr th {\n",
              "        vertical-align: top;\n",
              "    }\n",
              "\n",
              "    .dataframe thead th {\n",
              "        text-align: right;\n",
              "    }\n",
              "</style>\n",
              "<table border=\"1\" class=\"dataframe\">\n",
              "  <thead>\n",
              "    <tr style=\"text-align: right;\">\n",
              "      <th></th>\n",
              "      <th>Wickets</th>\n",
              "      <th>Inns</th>\n",
              "      <th>day</th>\n",
              "      <th>month</th>\n",
              "      <th>year</th>\n",
              "      <th>Rank</th>\n",
              "      <th>BR</th>\n",
              "      <th>Overs</th>\n",
              "      <th>Match Score</th>\n",
              "      <th>RPO</th>\n",
              "      <th>Toss_Outcome</th>\n",
              "      <th>Bat_Inning</th>\n",
              "      <th>Team</th>\n",
              "      <th>Opposition</th>\n",
              "      <th>Ground</th>\n",
              "      <th>Opposition_Ground</th>\n",
              "      <th>Team_Ground</th>\n",
              "      <th>Team_Opposition</th>\n",
              "      <th>match_7_days</th>\n",
              "    </tr>\n",
              "  </thead>\n",
              "  <tbody>\n",
              "    <tr>\n",
              "      <th>0</th>\n",
              "      <td>3.0</td>\n",
              "      <td>0.0</td>\n",
              "      <td>0.0</td>\n",
              "      <td>0.0</td>\n",
              "      <td>0.0</td>\n",
              "      <td>2.0</td>\n",
              "      <td>0.0</td>\n",
              "      <td>0.0</td>\n",
              "      <td>289.0</td>\n",
              "      <td>6.08</td>\n",
              "      <td>0.0</td>\n",
              "      <td>0.0</td>\n",
              "      <td>103.0</td>\n",
              "      <td>93.0</td>\n",
              "      <td>0.0</td>\n",
              "      <td>4.0</td>\n",
              "      <td>116.0</td>\n",
              "      <td>0.0</td>\n",
              "      <td>0.0</td>\n",
              "    </tr>\n",
              "    <tr>\n",
              "      <th>1</th>\n",
              "      <td>6.0</td>\n",
              "      <td>0.0</td>\n",
              "      <td>0.0</td>\n",
              "      <td>0.0</td>\n",
              "      <td>0.0</td>\n",
              "      <td>2.0</td>\n",
              "      <td>0.0</td>\n",
              "      <td>0.0</td>\n",
              "      <td>340.0</td>\n",
              "      <td>6.80</td>\n",
              "      <td>0.0</td>\n",
              "      <td>0.0</td>\n",
              "      <td>103.0</td>\n",
              "      <td>93.0</td>\n",
              "      <td>0.0</td>\n",
              "      <td>37.0</td>\n",
              "      <td>156.0</td>\n",
              "      <td>0.0</td>\n",
              "      <td>0.0</td>\n",
              "    </tr>\n",
              "    <tr>\n",
              "      <th>2</th>\n",
              "      <td>0.0</td>\n",
              "      <td>0.0</td>\n",
              "      <td>0.0</td>\n",
              "      <td>0.0</td>\n",
              "      <td>0.0</td>\n",
              "      <td>2.0</td>\n",
              "      <td>0.0</td>\n",
              "      <td>0.0</td>\n",
              "      <td>255.0</td>\n",
              "      <td>5.18</td>\n",
              "      <td>0.0</td>\n",
              "      <td>0.0</td>\n",
              "      <td>103.0</td>\n",
              "      <td>93.0</td>\n",
              "      <td>0.0</td>\n",
              "      <td>30.0</td>\n",
              "      <td>145.0</td>\n",
              "      <td>0.0</td>\n",
              "      <td>0.0</td>\n",
              "    </tr>\n",
              "    <tr>\n",
              "      <th>3</th>\n",
              "      <td>5.0</td>\n",
              "      <td>0.0</td>\n",
              "      <td>0.0</td>\n",
              "      <td>0.0</td>\n",
              "      <td>0.0</td>\n",
              "      <td>2.0</td>\n",
              "      <td>0.0</td>\n",
              "      <td>0.0</td>\n",
              "      <td>352.0</td>\n",
              "      <td>7.04</td>\n",
              "      <td>0.0</td>\n",
              "      <td>0.0</td>\n",
              "      <td>103.0</td>\n",
              "      <td>93.0</td>\n",
              "      <td>0.0</td>\n",
              "      <td>43.0</td>\n",
              "      <td>160.0</td>\n",
              "      <td>0.0</td>\n",
              "      <td>0.0</td>\n",
              "    </tr>\n",
              "    <tr>\n",
              "      <th>4</th>\n",
              "      <td>0.0</td>\n",
              "      <td>0.0</td>\n",
              "      <td>0.0</td>\n",
              "      <td>0.0</td>\n",
              "      <td>0.0</td>\n",
              "      <td>2.0</td>\n",
              "      <td>0.0</td>\n",
              "      <td>0.0</td>\n",
              "      <td>237.0</td>\n",
              "      <td>4.74</td>\n",
              "      <td>0.0</td>\n",
              "      <td>0.0</td>\n",
              "      <td>103.0</td>\n",
              "      <td>93.0</td>\n",
              "      <td>0.0</td>\n",
              "      <td>16.0</td>\n",
              "      <td>126.0</td>\n",
              "      <td>0.0</td>\n",
              "      <td>0.0</td>\n",
              "    </tr>\n",
              "  </tbody>\n",
              "</table>\n",
              "</div>"
            ],
            "text/plain": [
              "   Wickets  Inns  day  ...  Team_Ground  Team_Opposition  match_7_days\n",
              "0      3.0   0.0  0.0  ...        116.0              0.0           0.0\n",
              "1      6.0   0.0  0.0  ...        156.0              0.0           0.0\n",
              "2      0.0   0.0  0.0  ...        145.0              0.0           0.0\n",
              "3      5.0   0.0  0.0  ...        160.0              0.0           0.0\n",
              "4      0.0   0.0  0.0  ...        126.0              0.0           0.0\n",
              "\n",
              "[5 rows x 19 columns]"
            ]
          },
          "metadata": {
            "tags": []
          },
          "execution_count": 54
        }
      ]
    },
    {
      "cell_type": "code",
      "metadata": {
        "id": "iNl8UO2BCj2O",
        "colab_type": "code",
        "colab": {
          "base_uri": "https://localhost:8080/",
          "height": 233
        },
        "outputId": "66dd0c43-a293-4a45-9ec0-0533eeae89ff"
      },
      "source": [
        "selected_features2 = pd.DataFrame(selector2.inverse_transform(X_new2), \n",
        "                                 index=train.index, \n",
        "                                 columns=feature_cols)\n",
        "selected_features2.head()"
      ],
      "execution_count": 56,
      "outputs": [
        {
          "output_type": "execute_result",
          "data": {
            "text/html": [
              "<div>\n",
              "<style scoped>\n",
              "    .dataframe tbody tr th:only-of-type {\n",
              "        vertical-align: middle;\n",
              "    }\n",
              "\n",
              "    .dataframe tbody tr th {\n",
              "        vertical-align: top;\n",
              "    }\n",
              "\n",
              "    .dataframe thead th {\n",
              "        text-align: right;\n",
              "    }\n",
              "</style>\n",
              "<table border=\"1\" class=\"dataframe\">\n",
              "  <thead>\n",
              "    <tr style=\"text-align: right;\">\n",
              "      <th></th>\n",
              "      <th>Wickets</th>\n",
              "      <th>Inns</th>\n",
              "      <th>day</th>\n",
              "      <th>month</th>\n",
              "      <th>year</th>\n",
              "      <th>Rank</th>\n",
              "      <th>BR</th>\n",
              "      <th>Overs</th>\n",
              "      <th>Match Score</th>\n",
              "      <th>RPO</th>\n",
              "      <th>Toss_Outcome</th>\n",
              "      <th>Bat_Inning</th>\n",
              "      <th>Team</th>\n",
              "      <th>Opposition</th>\n",
              "      <th>Ground</th>\n",
              "      <th>Opposition_Ground</th>\n",
              "      <th>Team_Ground</th>\n",
              "      <th>Team_Opposition</th>\n",
              "      <th>match_7_days</th>\n",
              "    </tr>\n",
              "  </thead>\n",
              "  <tbody>\n",
              "    <tr>\n",
              "      <th>0</th>\n",
              "      <td>3.0</td>\n",
              "      <td>0.0</td>\n",
              "      <td>0.0</td>\n",
              "      <td>0.0</td>\n",
              "      <td>0.0</td>\n",
              "      <td>2.0</td>\n",
              "      <td>0.0</td>\n",
              "      <td>0.0</td>\n",
              "      <td>289.0</td>\n",
              "      <td>6.08</td>\n",
              "      <td>0.0</td>\n",
              "      <td>0.0</td>\n",
              "      <td>103.0</td>\n",
              "      <td>0.0</td>\n",
              "      <td>0.0</td>\n",
              "      <td>0.0</td>\n",
              "      <td>0.0</td>\n",
              "      <td>0.0</td>\n",
              "      <td>0.0</td>\n",
              "    </tr>\n",
              "    <tr>\n",
              "      <th>1</th>\n",
              "      <td>6.0</td>\n",
              "      <td>0.0</td>\n",
              "      <td>0.0</td>\n",
              "      <td>0.0</td>\n",
              "      <td>0.0</td>\n",
              "      <td>2.0</td>\n",
              "      <td>0.0</td>\n",
              "      <td>0.0</td>\n",
              "      <td>340.0</td>\n",
              "      <td>6.80</td>\n",
              "      <td>0.0</td>\n",
              "      <td>0.0</td>\n",
              "      <td>103.0</td>\n",
              "      <td>0.0</td>\n",
              "      <td>0.0</td>\n",
              "      <td>0.0</td>\n",
              "      <td>0.0</td>\n",
              "      <td>0.0</td>\n",
              "      <td>0.0</td>\n",
              "    </tr>\n",
              "    <tr>\n",
              "      <th>2</th>\n",
              "      <td>0.0</td>\n",
              "      <td>0.0</td>\n",
              "      <td>0.0</td>\n",
              "      <td>0.0</td>\n",
              "      <td>0.0</td>\n",
              "      <td>2.0</td>\n",
              "      <td>0.0</td>\n",
              "      <td>0.0</td>\n",
              "      <td>255.0</td>\n",
              "      <td>5.18</td>\n",
              "      <td>0.0</td>\n",
              "      <td>0.0</td>\n",
              "      <td>103.0</td>\n",
              "      <td>0.0</td>\n",
              "      <td>0.0</td>\n",
              "      <td>0.0</td>\n",
              "      <td>0.0</td>\n",
              "      <td>0.0</td>\n",
              "      <td>0.0</td>\n",
              "    </tr>\n",
              "    <tr>\n",
              "      <th>3</th>\n",
              "      <td>5.0</td>\n",
              "      <td>0.0</td>\n",
              "      <td>0.0</td>\n",
              "      <td>0.0</td>\n",
              "      <td>0.0</td>\n",
              "      <td>2.0</td>\n",
              "      <td>0.0</td>\n",
              "      <td>0.0</td>\n",
              "      <td>352.0</td>\n",
              "      <td>7.04</td>\n",
              "      <td>0.0</td>\n",
              "      <td>0.0</td>\n",
              "      <td>103.0</td>\n",
              "      <td>0.0</td>\n",
              "      <td>0.0</td>\n",
              "      <td>0.0</td>\n",
              "      <td>0.0</td>\n",
              "      <td>0.0</td>\n",
              "      <td>0.0</td>\n",
              "    </tr>\n",
              "    <tr>\n",
              "      <th>4</th>\n",
              "      <td>0.0</td>\n",
              "      <td>0.0</td>\n",
              "      <td>0.0</td>\n",
              "      <td>0.0</td>\n",
              "      <td>0.0</td>\n",
              "      <td>2.0</td>\n",
              "      <td>0.0</td>\n",
              "      <td>0.0</td>\n",
              "      <td>237.0</td>\n",
              "      <td>4.74</td>\n",
              "      <td>0.0</td>\n",
              "      <td>0.0</td>\n",
              "      <td>103.0</td>\n",
              "      <td>0.0</td>\n",
              "      <td>0.0</td>\n",
              "      <td>0.0</td>\n",
              "      <td>0.0</td>\n",
              "      <td>0.0</td>\n",
              "      <td>0.0</td>\n",
              "    </tr>\n",
              "  </tbody>\n",
              "</table>\n",
              "</div>"
            ],
            "text/plain": [
              "   Wickets  Inns  day  ...  Team_Ground  Team_Opposition  match_7_days\n",
              "0      3.0   0.0  0.0  ...          0.0              0.0           0.0\n",
              "1      6.0   0.0  0.0  ...          0.0              0.0           0.0\n",
              "2      0.0   0.0  0.0  ...          0.0              0.0           0.0\n",
              "3      5.0   0.0  0.0  ...          0.0              0.0           0.0\n",
              "4      0.0   0.0  0.0  ...          0.0              0.0           0.0\n",
              "\n",
              "[5 rows x 19 columns]"
            ]
          },
          "metadata": {
            "tags": []
          },
          "execution_count": 56
        }
      ]
    },
    {
      "cell_type": "code",
      "metadata": {
        "id": "WxSKD53H6yUx",
        "colab_type": "code",
        "outputId": "dc3e95c8-a04e-4d84-b678-e2fa357b8de2",
        "colab": {
          "base_uri": "https://localhost:8080/",
          "height": 196
        }
      },
      "source": [
        "# Dropped columns have values of all 0s, so var is 0, drop them\n",
        "selected_columns = selected_features.columns[selected_features.var() != 0]\n",
        "\n",
        "# Get the valid dataset with the selected features.\n",
        "valid[selected_columns].head()"
      ],
      "execution_count": 57,
      "outputs": [
        {
          "output_type": "execute_result",
          "data": {
            "text/html": [
              "<div>\n",
              "<style scoped>\n",
              "    .dataframe tbody tr th:only-of-type {\n",
              "        vertical-align: middle;\n",
              "    }\n",
              "\n",
              "    .dataframe tbody tr th {\n",
              "        vertical-align: top;\n",
              "    }\n",
              "\n",
              "    .dataframe thead th {\n",
              "        text-align: right;\n",
              "    }\n",
              "</style>\n",
              "<table border=\"1\" class=\"dataframe\">\n",
              "  <thead>\n",
              "    <tr style=\"text-align: right;\">\n",
              "      <th></th>\n",
              "      <th>Wickets</th>\n",
              "      <th>Rank</th>\n",
              "      <th>Match Score</th>\n",
              "      <th>RPO</th>\n",
              "      <th>Team</th>\n",
              "      <th>Opposition</th>\n",
              "      <th>Opposition_Ground</th>\n",
              "      <th>Team_Ground</th>\n",
              "    </tr>\n",
              "  </thead>\n",
              "  <tbody>\n",
              "    <tr>\n",
              "      <th>616</th>\n",
              "      <td>0.0</td>\n",
              "      <td>8</td>\n",
              "      <td>312</td>\n",
              "      <td>6.73</td>\n",
              "      <td>88</td>\n",
              "      <td>93</td>\n",
              "      <td>41</td>\n",
              "      <td>302</td>\n",
              "    </tr>\n",
              "    <tr>\n",
              "      <th>617</th>\n",
              "      <td>9.0</td>\n",
              "      <td>8</td>\n",
              "      <td>232</td>\n",
              "      <td>4.64</td>\n",
              "      <td>88</td>\n",
              "      <td>97</td>\n",
              "      <td>97</td>\n",
              "      <td>294</td>\n",
              "    </tr>\n",
              "    <tr>\n",
              "      <th>618</th>\n",
              "      <td>6.0</td>\n",
              "      <td>8</td>\n",
              "      <td>366</td>\n",
              "      <td>7.32</td>\n",
              "      <td>88</td>\n",
              "      <td>97</td>\n",
              "      <td>86</td>\n",
              "      <td>281</td>\n",
              "    </tr>\n",
              "    <tr>\n",
              "      <th>619</th>\n",
              "      <td>7.0</td>\n",
              "      <td>8</td>\n",
              "      <td>273</td>\n",
              "      <td>5.46</td>\n",
              "      <td>88</td>\n",
              "      <td>97</td>\n",
              "      <td>104</td>\n",
              "      <td>299</td>\n",
              "    </tr>\n",
              "    <tr>\n",
              "      <th>620</th>\n",
              "      <td>9.0</td>\n",
              "      <td>8</td>\n",
              "      <td>150</td>\n",
              "      <td>7.14</td>\n",
              "      <td>88</td>\n",
              "      <td>97</td>\n",
              "      <td>104</td>\n",
              "      <td>299</td>\n",
              "    </tr>\n",
              "  </tbody>\n",
              "</table>\n",
              "</div>"
            ],
            "text/plain": [
              "     Wickets  Rank  Match Score  ...  Opposition  Opposition_Ground  Team_Ground\n",
              "616      0.0     8          312  ...          93                 41          302\n",
              "617      9.0     8          232  ...          97                 97          294\n",
              "618      6.0     8          366  ...          97                 86          281\n",
              "619      7.0     8          273  ...          97                104          299\n",
              "620      9.0     8          150  ...          97                104          299\n",
              "\n",
              "[5 rows x 8 columns]"
            ]
          },
          "metadata": {
            "tags": []
          },
          "execution_count": 57
        }
      ]
    },
    {
      "cell_type": "code",
      "metadata": {
        "id": "b9XkRyjEDEe0",
        "colab_type": "code",
        "colab": {
          "base_uri": "https://localhost:8080/",
          "height": 196
        },
        "outputId": "a5795e0d-26b7-4c51-da0b-ca92c81d69ca"
      },
      "source": [
        "selected_columns2 = selected_features2.columns[selected_features2.var() != 0]\n",
        "\n",
        "# Get the valid dataset with the selected features.\n",
        "valid[selected_columns2].head()"
      ],
      "execution_count": 58,
      "outputs": [
        {
          "output_type": "execute_result",
          "data": {
            "text/html": [
              "<div>\n",
              "<style scoped>\n",
              "    .dataframe tbody tr th:only-of-type {\n",
              "        vertical-align: middle;\n",
              "    }\n",
              "\n",
              "    .dataframe tbody tr th {\n",
              "        vertical-align: top;\n",
              "    }\n",
              "\n",
              "    .dataframe thead th {\n",
              "        text-align: right;\n",
              "    }\n",
              "</style>\n",
              "<table border=\"1\" class=\"dataframe\">\n",
              "  <thead>\n",
              "    <tr style=\"text-align: right;\">\n",
              "      <th></th>\n",
              "      <th>Wickets</th>\n",
              "      <th>Rank</th>\n",
              "      <th>Match Score</th>\n",
              "      <th>RPO</th>\n",
              "      <th>Team</th>\n",
              "    </tr>\n",
              "  </thead>\n",
              "  <tbody>\n",
              "    <tr>\n",
              "      <th>616</th>\n",
              "      <td>0.0</td>\n",
              "      <td>8</td>\n",
              "      <td>312</td>\n",
              "      <td>6.73</td>\n",
              "      <td>88</td>\n",
              "    </tr>\n",
              "    <tr>\n",
              "      <th>617</th>\n",
              "      <td>9.0</td>\n",
              "      <td>8</td>\n",
              "      <td>232</td>\n",
              "      <td>4.64</td>\n",
              "      <td>88</td>\n",
              "    </tr>\n",
              "    <tr>\n",
              "      <th>618</th>\n",
              "      <td>6.0</td>\n",
              "      <td>8</td>\n",
              "      <td>366</td>\n",
              "      <td>7.32</td>\n",
              "      <td>88</td>\n",
              "    </tr>\n",
              "    <tr>\n",
              "      <th>619</th>\n",
              "      <td>7.0</td>\n",
              "      <td>8</td>\n",
              "      <td>273</td>\n",
              "      <td>5.46</td>\n",
              "      <td>88</td>\n",
              "    </tr>\n",
              "    <tr>\n",
              "      <th>620</th>\n",
              "      <td>9.0</td>\n",
              "      <td>8</td>\n",
              "      <td>150</td>\n",
              "      <td>7.14</td>\n",
              "      <td>88</td>\n",
              "    </tr>\n",
              "  </tbody>\n",
              "</table>\n",
              "</div>"
            ],
            "text/plain": [
              "     Wickets  Rank  Match Score   RPO  Team\n",
              "616      0.0     8          312  6.73    88\n",
              "617      9.0     8          232  4.64    88\n",
              "618      6.0     8          366  7.32    88\n",
              "619      7.0     8          273  5.46    88\n",
              "620      9.0     8          150  7.14    88"
            ]
          },
          "metadata": {
            "tags": []
          },
          "execution_count": 58
        }
      ]
    },
    {
      "cell_type": "code",
      "metadata": {
        "id": "98X1Xtd9Gvb1",
        "colab_type": "code",
        "colab": {
          "base_uri": "https://localhost:8080/",
          "height": 233
        },
        "outputId": "55f610f6-be94-4055-e251-07422979c60e"
      },
      "source": [
        "data_interaction3.head()"
      ],
      "execution_count": 64,
      "outputs": [
        {
          "output_type": "execute_result",
          "data": {
            "text/html": [
              "<div>\n",
              "<style scoped>\n",
              "    .dataframe tbody tr th:only-of-type {\n",
              "        vertical-align: middle;\n",
              "    }\n",
              "\n",
              "    .dataframe tbody tr th {\n",
              "        vertical-align: top;\n",
              "    }\n",
              "\n",
              "    .dataframe thead th {\n",
              "        text-align: right;\n",
              "    }\n",
              "</style>\n",
              "<table border=\"1\" class=\"dataframe\">\n",
              "  <thead>\n",
              "    <tr style=\"text-align: right;\">\n",
              "      <th></th>\n",
              "      <th>Wickets</th>\n",
              "      <th>Inns</th>\n",
              "      <th>day</th>\n",
              "      <th>month</th>\n",
              "      <th>year</th>\n",
              "      <th>outcome</th>\n",
              "      <th>Rank</th>\n",
              "      <th>BR</th>\n",
              "      <th>Overs</th>\n",
              "      <th>Match Score</th>\n",
              "      <th>RPO</th>\n",
              "      <th>Toss_Outcome</th>\n",
              "      <th>Bat_Inning</th>\n",
              "      <th>Team</th>\n",
              "      <th>Opposition</th>\n",
              "      <th>Ground</th>\n",
              "      <th>Opposition_Ground</th>\n",
              "      <th>Team_Ground</th>\n",
              "      <th>Team_Opposition</th>\n",
              "      <th>match_7_days</th>\n",
              "    </tr>\n",
              "  </thead>\n",
              "  <tbody>\n",
              "    <tr>\n",
              "      <th>0</th>\n",
              "      <td>3.0</td>\n",
              "      <td>2</td>\n",
              "      <td>19</td>\n",
              "      <td>1</td>\n",
              "      <td>2020</td>\n",
              "      <td>1</td>\n",
              "      <td>2</td>\n",
              "      <td>15.0</td>\n",
              "      <td>47.3</td>\n",
              "      <td>289</td>\n",
              "      <td>6.08</td>\n",
              "      <td>0</td>\n",
              "      <td>0</td>\n",
              "      <td>103</td>\n",
              "      <td>93</td>\n",
              "      <td>4</td>\n",
              "      <td>4</td>\n",
              "      <td>116</td>\n",
              "      <td>24</td>\n",
              "      <td>4.0</td>\n",
              "    </tr>\n",
              "    <tr>\n",
              "      <th>1</th>\n",
              "      <td>6.0</td>\n",
              "      <td>1</td>\n",
              "      <td>17</td>\n",
              "      <td>1</td>\n",
              "      <td>2020</td>\n",
              "      <td>1</td>\n",
              "      <td>2</td>\n",
              "      <td>0.0</td>\n",
              "      <td>50.0</td>\n",
              "      <td>340</td>\n",
              "      <td>6.80</td>\n",
              "      <td>0</td>\n",
              "      <td>1</td>\n",
              "      <td>103</td>\n",
              "      <td>93</td>\n",
              "      <td>4</td>\n",
              "      <td>37</td>\n",
              "      <td>156</td>\n",
              "      <td>24</td>\n",
              "      <td>3.0</td>\n",
              "    </tr>\n",
              "    <tr>\n",
              "      <th>2</th>\n",
              "      <td>0.0</td>\n",
              "      <td>1</td>\n",
              "      <td>14</td>\n",
              "      <td>1</td>\n",
              "      <td>2020</td>\n",
              "      <td>0</td>\n",
              "      <td>2</td>\n",
              "      <td>74.0</td>\n",
              "      <td>49.1</td>\n",
              "      <td>255</td>\n",
              "      <td>5.18</td>\n",
              "      <td>0</td>\n",
              "      <td>1</td>\n",
              "      <td>103</td>\n",
              "      <td>93</td>\n",
              "      <td>6</td>\n",
              "      <td>30</td>\n",
              "      <td>145</td>\n",
              "      <td>24</td>\n",
              "      <td>0.0</td>\n",
              "    </tr>\n",
              "    <tr>\n",
              "      <th>3</th>\n",
              "      <td>5.0</td>\n",
              "      <td>1</td>\n",
              "      <td>9</td>\n",
              "      <td>6</td>\n",
              "      <td>2019</td>\n",
              "      <td>1</td>\n",
              "      <td>2</td>\n",
              "      <td>0.0</td>\n",
              "      <td>50.0</td>\n",
              "      <td>352</td>\n",
              "      <td>7.04</td>\n",
              "      <td>1</td>\n",
              "      <td>1</td>\n",
              "      <td>103</td>\n",
              "      <td>93</td>\n",
              "      <td>28</td>\n",
              "      <td>43</td>\n",
              "      <td>160</td>\n",
              "      <td>24</td>\n",
              "      <td>10.0</td>\n",
              "    </tr>\n",
              "    <tr>\n",
              "      <th>4</th>\n",
              "      <td>0.0</td>\n",
              "      <td>2</td>\n",
              "      <td>13</td>\n",
              "      <td>3</td>\n",
              "      <td>2019</td>\n",
              "      <td>0</td>\n",
              "      <td>2</td>\n",
              "      <td>0.0</td>\n",
              "      <td>50.0</td>\n",
              "      <td>237</td>\n",
              "      <td>4.74</td>\n",
              "      <td>0</td>\n",
              "      <td>0</td>\n",
              "      <td>103</td>\n",
              "      <td>93</td>\n",
              "      <td>4</td>\n",
              "      <td>16</td>\n",
              "      <td>126</td>\n",
              "      <td>24</td>\n",
              "      <td>8.0</td>\n",
              "    </tr>\n",
              "  </tbody>\n",
              "</table>\n",
              "</div>"
            ],
            "text/plain": [
              "   Wickets  Inns  day  ...  Team_Ground  Team_Opposition  match_7_days\n",
              "0      3.0     2   19  ...          116               24           4.0\n",
              "1      6.0     1   17  ...          156               24           3.0\n",
              "2      0.0     1   14  ...          145               24           0.0\n",
              "3      5.0     1    9  ...          160               24          10.0\n",
              "4      0.0     2   13  ...          126               24           8.0\n",
              "\n",
              "[5 rows x 20 columns]"
            ]
          },
          "metadata": {
            "tags": []
          },
          "execution_count": 64
        }
      ]
    },
    {
      "cell_type": "code",
      "metadata": {
        "id": "MFVKVMVbC8pB",
        "colab_type": "code",
        "colab": {}
      },
      "source": [
        "dataset1 = data_interaction3[['Wickets', 'Rank', 'Match Score', 'RPO', 'Team', 'outcome']]\n",
        "dataset2 = data_interaction3[['Wickets', 'Rank', 'Match Score', 'RPO', 'Team', 'Opposition', 'Opposition_Ground', 'Team_Ground', 'outcome']]"
      ],
      "execution_count": 0,
      "outputs": []
    },
    {
      "cell_type": "code",
      "metadata": {
        "id": "mEAnTOD5E7QS",
        "colab_type": "code",
        "colab": {}
      },
      "source": [
        "dataset1.to_excel('dataset1.xlsx')\n",
        "dataset2.to_excel('dataset2.xlsx')"
      ],
      "execution_count": 0,
      "outputs": []
    },
    {
      "cell_type": "markdown",
      "metadata": {
        "id": "zk_3VsBvBsft",
        "colab_type": "text"
      },
      "source": [
        "## L1 regularization"
      ]
    },
    {
      "cell_type": "code",
      "metadata": {
        "id": "J-OnCBFzBdmb",
        "colab_type": "code",
        "outputId": "372979d0-0895-4426-d617-0f6a67ebb60d",
        "colab": {
          "base_uri": "https://localhost:8080/",
          "height": 67
        }
      },
      "source": [
        "from sklearn.linear_model import LogisticRegression\n",
        "from sklearn.feature_selection import SelectFromModel\n",
        "\n",
        "train, valid, _ = get_data_splits(data_interaction3)\n",
        "\n",
        "X, y = train[train.columns.drop(\"outcome\")], train['outcome']\n",
        "\n",
        "# Set the regularization parameter C=1\n",
        "sel_ = SelectFromModel(LogisticRegression(C=1, penalty='l1', solver = 'liblinear'))\n",
        "sel_.fit(X, y)\n",
        "\n",
        "sel_.get_support()"
      ],
      "execution_count": 67,
      "outputs": [
        {
          "output_type": "execute_result",
          "data": {
            "text/plain": [
              "array([ True, False,  True,  True,  True,  True,  True,  True,  True,\n",
              "        True,  True,  True,  True,  True,  True,  True,  True,  True,\n",
              "        True])"
            ]
          },
          "metadata": {
            "tags": []
          },
          "execution_count": 67
        }
      ]
    },
    {
      "cell_type": "code",
      "metadata": {
        "id": "z2Yj_ti9B-s3",
        "colab_type": "code",
        "colab": {
          "base_uri": "https://localhost:8080/",
          "height": 67
        },
        "outputId": "02ab68c0-d6ae-4eb8-f3c8-5a9eabdeab0c"
      },
      "source": [
        "selected_feat = X.columns[(sel_.get_support())]\n",
        "print('total features: {}'.format((X.shape[1])))\n",
        "print('selected features: {}'.format(len(selected_feat)))\n",
        "print('features with coefficients shrank to zero: {}'.format(\n",
        "      np.sum(sel_.estimator_.coef_ == 0)))"
      ],
      "execution_count": 69,
      "outputs": [
        {
          "output_type": "stream",
          "text": [
            "total features: 19\n",
            "selected features: 18\n",
            "features with coefficients shrank to zero: 1\n"
          ],
          "name": "stdout"
        }
      ]
    },
    {
      "cell_type": "code",
      "metadata": {
        "id": "yKy6_ftuHxTJ",
        "colab_type": "code",
        "colab": {
          "base_uri": "https://localhost:8080/",
          "height": 33
        },
        "outputId": "ab4bf8d5-d23d-4984-d8a8-1af634c9cd8a"
      },
      "source": [
        "removed_feats = X.columns[(sel_.estimator_.coef_ == 0).ravel().tolist()]\n",
        "removed_feats"
      ],
      "execution_count": 70,
      "outputs": [
        {
          "output_type": "execute_result",
          "data": {
            "text/plain": [
              "Index(['Inns'], dtype='object')"
            ]
          },
          "metadata": {
            "tags": []
          },
          "execution_count": 70
        }
      ]
    },
    {
      "cell_type": "code",
      "metadata": {
        "id": "KBrnFNlCIC7H",
        "colab_type": "code",
        "colab": {}
      },
      "source": [
        "dataset3 = data_interaction3.drop(columns=['Inns'], axis = 1)"
      ],
      "execution_count": 0,
      "outputs": []
    },
    {
      "cell_type": "code",
      "metadata": {
        "id": "AZ-9yYESIgZ8",
        "colab_type": "code",
        "colab": {
          "base_uri": "https://localhost:8080/",
          "height": 233
        },
        "outputId": "77154fb5-fe79-41df-be9c-fad57aa06221"
      },
      "source": [
        "dataset3.head()"
      ],
      "execution_count": 72,
      "outputs": [
        {
          "output_type": "execute_result",
          "data": {
            "text/html": [
              "<div>\n",
              "<style scoped>\n",
              "    .dataframe tbody tr th:only-of-type {\n",
              "        vertical-align: middle;\n",
              "    }\n",
              "\n",
              "    .dataframe tbody tr th {\n",
              "        vertical-align: top;\n",
              "    }\n",
              "\n",
              "    .dataframe thead th {\n",
              "        text-align: right;\n",
              "    }\n",
              "</style>\n",
              "<table border=\"1\" class=\"dataframe\">\n",
              "  <thead>\n",
              "    <tr style=\"text-align: right;\">\n",
              "      <th></th>\n",
              "      <th>Wickets</th>\n",
              "      <th>day</th>\n",
              "      <th>month</th>\n",
              "      <th>year</th>\n",
              "      <th>outcome</th>\n",
              "      <th>Rank</th>\n",
              "      <th>BR</th>\n",
              "      <th>Overs</th>\n",
              "      <th>Match Score</th>\n",
              "      <th>RPO</th>\n",
              "      <th>Toss_Outcome</th>\n",
              "      <th>Bat_Inning</th>\n",
              "      <th>Team</th>\n",
              "      <th>Opposition</th>\n",
              "      <th>Ground</th>\n",
              "      <th>Opposition_Ground</th>\n",
              "      <th>Team_Ground</th>\n",
              "      <th>Team_Opposition</th>\n",
              "      <th>match_7_days</th>\n",
              "    </tr>\n",
              "  </thead>\n",
              "  <tbody>\n",
              "    <tr>\n",
              "      <th>0</th>\n",
              "      <td>3.0</td>\n",
              "      <td>19</td>\n",
              "      <td>1</td>\n",
              "      <td>2020</td>\n",
              "      <td>1</td>\n",
              "      <td>2</td>\n",
              "      <td>15.0</td>\n",
              "      <td>47.3</td>\n",
              "      <td>289</td>\n",
              "      <td>6.08</td>\n",
              "      <td>0</td>\n",
              "      <td>0</td>\n",
              "      <td>103</td>\n",
              "      <td>93</td>\n",
              "      <td>4</td>\n",
              "      <td>4</td>\n",
              "      <td>116</td>\n",
              "      <td>24</td>\n",
              "      <td>4.0</td>\n",
              "    </tr>\n",
              "    <tr>\n",
              "      <th>1</th>\n",
              "      <td>6.0</td>\n",
              "      <td>17</td>\n",
              "      <td>1</td>\n",
              "      <td>2020</td>\n",
              "      <td>1</td>\n",
              "      <td>2</td>\n",
              "      <td>0.0</td>\n",
              "      <td>50.0</td>\n",
              "      <td>340</td>\n",
              "      <td>6.80</td>\n",
              "      <td>0</td>\n",
              "      <td>1</td>\n",
              "      <td>103</td>\n",
              "      <td>93</td>\n",
              "      <td>4</td>\n",
              "      <td>37</td>\n",
              "      <td>156</td>\n",
              "      <td>24</td>\n",
              "      <td>3.0</td>\n",
              "    </tr>\n",
              "    <tr>\n",
              "      <th>2</th>\n",
              "      <td>0.0</td>\n",
              "      <td>14</td>\n",
              "      <td>1</td>\n",
              "      <td>2020</td>\n",
              "      <td>0</td>\n",
              "      <td>2</td>\n",
              "      <td>74.0</td>\n",
              "      <td>49.1</td>\n",
              "      <td>255</td>\n",
              "      <td>5.18</td>\n",
              "      <td>0</td>\n",
              "      <td>1</td>\n",
              "      <td>103</td>\n",
              "      <td>93</td>\n",
              "      <td>6</td>\n",
              "      <td>30</td>\n",
              "      <td>145</td>\n",
              "      <td>24</td>\n",
              "      <td>0.0</td>\n",
              "    </tr>\n",
              "    <tr>\n",
              "      <th>3</th>\n",
              "      <td>5.0</td>\n",
              "      <td>9</td>\n",
              "      <td>6</td>\n",
              "      <td>2019</td>\n",
              "      <td>1</td>\n",
              "      <td>2</td>\n",
              "      <td>0.0</td>\n",
              "      <td>50.0</td>\n",
              "      <td>352</td>\n",
              "      <td>7.04</td>\n",
              "      <td>1</td>\n",
              "      <td>1</td>\n",
              "      <td>103</td>\n",
              "      <td>93</td>\n",
              "      <td>28</td>\n",
              "      <td>43</td>\n",
              "      <td>160</td>\n",
              "      <td>24</td>\n",
              "      <td>10.0</td>\n",
              "    </tr>\n",
              "    <tr>\n",
              "      <th>4</th>\n",
              "      <td>0.0</td>\n",
              "      <td>13</td>\n",
              "      <td>3</td>\n",
              "      <td>2019</td>\n",
              "      <td>0</td>\n",
              "      <td>2</td>\n",
              "      <td>0.0</td>\n",
              "      <td>50.0</td>\n",
              "      <td>237</td>\n",
              "      <td>4.74</td>\n",
              "      <td>0</td>\n",
              "      <td>0</td>\n",
              "      <td>103</td>\n",
              "      <td>93</td>\n",
              "      <td>4</td>\n",
              "      <td>16</td>\n",
              "      <td>126</td>\n",
              "      <td>24</td>\n",
              "      <td>8.0</td>\n",
              "    </tr>\n",
              "  </tbody>\n",
              "</table>\n",
              "</div>"
            ],
            "text/plain": [
              "   Wickets  day  month  ...  Team_Ground  Team_Opposition  match_7_days\n",
              "0      3.0   19      1  ...          116               24           4.0\n",
              "1      6.0   17      1  ...          156               24           3.0\n",
              "2      0.0   14      1  ...          145               24           0.0\n",
              "3      5.0    9      6  ...          160               24          10.0\n",
              "4      0.0   13      3  ...          126               24           8.0\n",
              "\n",
              "[5 rows x 19 columns]"
            ]
          },
          "metadata": {
            "tags": []
          },
          "execution_count": 72
        }
      ]
    },
    {
      "cell_type": "code",
      "metadata": {
        "id": "qVbPlJDCIik8",
        "colab_type": "code",
        "colab": {
          "base_uri": "https://localhost:8080/",
          "height": 196
        },
        "outputId": "bc88ec43-80f1-4ce6-83bc-de160707e9fc"
      },
      "source": [
        "dataset1.head()"
      ],
      "execution_count": 73,
      "outputs": [
        {
          "output_type": "execute_result",
          "data": {
            "text/html": [
              "<div>\n",
              "<style scoped>\n",
              "    .dataframe tbody tr th:only-of-type {\n",
              "        vertical-align: middle;\n",
              "    }\n",
              "\n",
              "    .dataframe tbody tr th {\n",
              "        vertical-align: top;\n",
              "    }\n",
              "\n",
              "    .dataframe thead th {\n",
              "        text-align: right;\n",
              "    }\n",
              "</style>\n",
              "<table border=\"1\" class=\"dataframe\">\n",
              "  <thead>\n",
              "    <tr style=\"text-align: right;\">\n",
              "      <th></th>\n",
              "      <th>Wickets</th>\n",
              "      <th>Rank</th>\n",
              "      <th>Match Score</th>\n",
              "      <th>RPO</th>\n",
              "      <th>Team</th>\n",
              "      <th>outcome</th>\n",
              "    </tr>\n",
              "  </thead>\n",
              "  <tbody>\n",
              "    <tr>\n",
              "      <th>0</th>\n",
              "      <td>3.0</td>\n",
              "      <td>2</td>\n",
              "      <td>289</td>\n",
              "      <td>6.08</td>\n",
              "      <td>103</td>\n",
              "      <td>1</td>\n",
              "    </tr>\n",
              "    <tr>\n",
              "      <th>1</th>\n",
              "      <td>6.0</td>\n",
              "      <td>2</td>\n",
              "      <td>340</td>\n",
              "      <td>6.80</td>\n",
              "      <td>103</td>\n",
              "      <td>1</td>\n",
              "    </tr>\n",
              "    <tr>\n",
              "      <th>2</th>\n",
              "      <td>0.0</td>\n",
              "      <td>2</td>\n",
              "      <td>255</td>\n",
              "      <td>5.18</td>\n",
              "      <td>103</td>\n",
              "      <td>0</td>\n",
              "    </tr>\n",
              "    <tr>\n",
              "      <th>3</th>\n",
              "      <td>5.0</td>\n",
              "      <td>2</td>\n",
              "      <td>352</td>\n",
              "      <td>7.04</td>\n",
              "      <td>103</td>\n",
              "      <td>1</td>\n",
              "    </tr>\n",
              "    <tr>\n",
              "      <th>4</th>\n",
              "      <td>0.0</td>\n",
              "      <td>2</td>\n",
              "      <td>237</td>\n",
              "      <td>4.74</td>\n",
              "      <td>103</td>\n",
              "      <td>0</td>\n",
              "    </tr>\n",
              "  </tbody>\n",
              "</table>\n",
              "</div>"
            ],
            "text/plain": [
              "   Wickets  Rank  Match Score   RPO  Team  outcome\n",
              "0      3.0     2          289  6.08   103        1\n",
              "1      6.0     2          340  6.80   103        1\n",
              "2      0.0     2          255  5.18   103        0\n",
              "3      5.0     2          352  7.04   103        1\n",
              "4      0.0     2          237  4.74   103        0"
            ]
          },
          "metadata": {
            "tags": []
          },
          "execution_count": 73
        }
      ]
    },
    {
      "cell_type": "code",
      "metadata": {
        "id": "nW24lWHEInvZ",
        "colab_type": "code",
        "colab": {
          "base_uri": "https://localhost:8080/",
          "height": 196
        },
        "outputId": "4d3c30ce-0ff6-4090-8233-587bea02f9f5"
      },
      "source": [
        "dataset2.head()"
      ],
      "execution_count": 74,
      "outputs": [
        {
          "output_type": "execute_result",
          "data": {
            "text/html": [
              "<div>\n",
              "<style scoped>\n",
              "    .dataframe tbody tr th:only-of-type {\n",
              "        vertical-align: middle;\n",
              "    }\n",
              "\n",
              "    .dataframe tbody tr th {\n",
              "        vertical-align: top;\n",
              "    }\n",
              "\n",
              "    .dataframe thead th {\n",
              "        text-align: right;\n",
              "    }\n",
              "</style>\n",
              "<table border=\"1\" class=\"dataframe\">\n",
              "  <thead>\n",
              "    <tr style=\"text-align: right;\">\n",
              "      <th></th>\n",
              "      <th>Wickets</th>\n",
              "      <th>Rank</th>\n",
              "      <th>Match Score</th>\n",
              "      <th>RPO</th>\n",
              "      <th>Team</th>\n",
              "      <th>Opposition</th>\n",
              "      <th>Opposition_Ground</th>\n",
              "      <th>Team_Ground</th>\n",
              "      <th>outcome</th>\n",
              "    </tr>\n",
              "  </thead>\n",
              "  <tbody>\n",
              "    <tr>\n",
              "      <th>0</th>\n",
              "      <td>3.0</td>\n",
              "      <td>2</td>\n",
              "      <td>289</td>\n",
              "      <td>6.08</td>\n",
              "      <td>103</td>\n",
              "      <td>93</td>\n",
              "      <td>4</td>\n",
              "      <td>116</td>\n",
              "      <td>1</td>\n",
              "    </tr>\n",
              "    <tr>\n",
              "      <th>1</th>\n",
              "      <td>6.0</td>\n",
              "      <td>2</td>\n",
              "      <td>340</td>\n",
              "      <td>6.80</td>\n",
              "      <td>103</td>\n",
              "      <td>93</td>\n",
              "      <td>37</td>\n",
              "      <td>156</td>\n",
              "      <td>1</td>\n",
              "    </tr>\n",
              "    <tr>\n",
              "      <th>2</th>\n",
              "      <td>0.0</td>\n",
              "      <td>2</td>\n",
              "      <td>255</td>\n",
              "      <td>5.18</td>\n",
              "      <td>103</td>\n",
              "      <td>93</td>\n",
              "      <td>30</td>\n",
              "      <td>145</td>\n",
              "      <td>0</td>\n",
              "    </tr>\n",
              "    <tr>\n",
              "      <th>3</th>\n",
              "      <td>5.0</td>\n",
              "      <td>2</td>\n",
              "      <td>352</td>\n",
              "      <td>7.04</td>\n",
              "      <td>103</td>\n",
              "      <td>93</td>\n",
              "      <td>43</td>\n",
              "      <td>160</td>\n",
              "      <td>1</td>\n",
              "    </tr>\n",
              "    <tr>\n",
              "      <th>4</th>\n",
              "      <td>0.0</td>\n",
              "      <td>2</td>\n",
              "      <td>237</td>\n",
              "      <td>4.74</td>\n",
              "      <td>103</td>\n",
              "      <td>93</td>\n",
              "      <td>16</td>\n",
              "      <td>126</td>\n",
              "      <td>0</td>\n",
              "    </tr>\n",
              "  </tbody>\n",
              "</table>\n",
              "</div>"
            ],
            "text/plain": [
              "   Wickets  Rank  Match Score  ...  Opposition_Ground  Team_Ground  outcome\n",
              "0      3.0     2          289  ...                  4          116        1\n",
              "1      6.0     2          340  ...                 37          156        1\n",
              "2      0.0     2          255  ...                 30          145        0\n",
              "3      5.0     2          352  ...                 43          160        1\n",
              "4      0.0     2          237  ...                 16          126        0\n",
              "\n",
              "[5 rows x 9 columns]"
            ]
          },
          "metadata": {
            "tags": []
          },
          "execution_count": 74
        }
      ]
    },
    {
      "cell_type": "code",
      "metadata": {
        "id": "MUDdy7_xIr_1",
        "colab_type": "code",
        "colab": {}
      },
      "source": [
        ""
      ],
      "execution_count": 0,
      "outputs": []
    }
  ]
}